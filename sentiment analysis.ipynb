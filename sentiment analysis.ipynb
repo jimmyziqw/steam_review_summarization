{
 "cells": [
  {
   "cell_type": "markdown",
   "id": "d8b39a66",
   "metadata": {},
   "source": [
    "Customer feedback appears across many channels including social media and partner websites.  We want to capture this valuable product feedback to spot negative trends and improve the situation, if needed. Here we will train a model to classify the feedback messages into positive (1) and negative (0) sentiment."
   ]
  },
  {
   "cell_type": "code",
   "execution_count": 1,
   "id": "65f836a2",
   "metadata": {},
   "outputs": [
    {
     "data": {
      "text/html": [
       "<div>\n",
       "<style scoped>\n",
       "    .dataframe tbody tr th:only-of-type {\n",
       "        vertical-align: middle;\n",
       "    }\n",
       "\n",
       "    .dataframe tbody tr th {\n",
       "        vertical-align: top;\n",
       "    }\n",
       "\n",
       "    .dataframe thead th {\n",
       "        text-align: right;\n",
       "    }\n",
       "</style>\n",
       "<table border=\"1\" class=\"dataframe\">\n",
       "  <thead>\n",
       "    <tr style=\"text-align: right;\">\n",
       "      <th></th>\n",
       "      <th>title</th>\n",
       "      <th>review_text</th>\n",
       "      <th>timestamp_created</th>\n",
       "      <th>voted_up</th>\n",
       "      <th>votes_up</th>\n",
       "      <th>votes_funny</th>\n",
       "      <th>weighted_vote_score</th>\n",
       "      <th>comment_count</th>\n",
       "    </tr>\n",
       "  </thead>\n",
       "  <tbody>\n",
       "    <tr>\n",
       "      <th>0</th>\n",
       "      <td>Destiny_2</td>\n",
       "      <td>free to play but not free to enjoy</td>\n",
       "      <td>1643914192</td>\n",
       "      <td>True</td>\n",
       "      <td>732</td>\n",
       "      <td>102</td>\n",
       "      <td>0.934972</td>\n",
       "      <td>0</td>\n",
       "    </tr>\n",
       "    <tr>\n",
       "      <th>1</th>\n",
       "      <td>Destiny_2</td>\n",
       "      <td>I want Mara Sov to stomp me</td>\n",
       "      <td>1643418367</td>\n",
       "      <td>True</td>\n",
       "      <td>678</td>\n",
       "      <td>230</td>\n",
       "      <td>0.879497</td>\n",
       "      <td>25</td>\n",
       "    </tr>\n",
       "    <tr>\n",
       "      <th>2</th>\n",
       "      <td>Destiny_2</td>\n",
       "      <td>It's not a game it's a job</td>\n",
       "      <td>1643432021</td>\n",
       "      <td>False</td>\n",
       "      <td>421</td>\n",
       "      <td>108</td>\n",
       "      <td>0.816016</td>\n",
       "      <td>0</td>\n",
       "    </tr>\n",
       "    <tr>\n",
       "      <th>3</th>\n",
       "      <td>Destiny_2</td>\n",
       "      <td>Horrible Game</td>\n",
       "      <td>1644883764</td>\n",
       "      <td>True</td>\n",
       "      <td>200</td>\n",
       "      <td>183</td>\n",
       "      <td>0.783575</td>\n",
       "      <td>0</td>\n",
       "    </tr>\n",
       "    <tr>\n",
       "      <th>4</th>\n",
       "      <td>Destiny_2</td>\n",
       "      <td>I have spent an ungodly amount of time on this...</td>\n",
       "      <td>1644288799</td>\n",
       "      <td>True</td>\n",
       "      <td>91</td>\n",
       "      <td>65</td>\n",
       "      <td>0.781530</td>\n",
       "      <td>0</td>\n",
       "    </tr>\n",
       "  </tbody>\n",
       "</table>\n",
       "</div>"
      ],
      "text/plain": [
       "       title                                        review_text  \\\n",
       "0  Destiny_2                 free to play but not free to enjoy   \n",
       "1  Destiny_2                        I want Mara Sov to stomp me   \n",
       "2  Destiny_2                         It's not a game it's a job   \n",
       "3  Destiny_2                                      Horrible Game   \n",
       "4  Destiny_2  I have spent an ungodly amount of time on this...   \n",
       "\n",
       "   timestamp_created  voted_up  votes_up  votes_funny  weighted_vote_score  \\\n",
       "0         1643914192      True       732          102             0.934972   \n",
       "1         1643418367      True       678          230             0.879497   \n",
       "2         1643432021     False       421          108             0.816016   \n",
       "3         1644883764      True       200          183             0.783575   \n",
       "4         1644288799      True        91           65             0.781530   \n",
       "\n",
       "   comment_count  \n",
       "0              0  \n",
       "1             25  \n",
       "2              0  \n",
       "3              0  \n",
       "4              0  "
      ]
     },
     "execution_count": 1,
     "metadata": {},
     "output_type": "execute_result"
    }
   ],
   "source": [
    "import pandas as pd\n",
    "import numpy as np\n",
    "import seaborn as sns\n",
    "import matplotlib.pyplot as plt\n",
    "import warnings\n",
    "warnings.filterwarnings(\"ignore\")\n",
    "\n",
    "#import csv as dataframe\n",
    "path = \"datasets/steam_reviews.csv\"\n",
    "df = pd.read_csv(path, delimiter=\",\")\n",
    "df.head()"
   ]
  },
  {
   "cell_type": "code",
   "execution_count": 2,
   "id": "7ab93bcf",
   "metadata": {},
   "outputs": [
    {
     "data": {
      "text/html": [
       "<div>\n",
       "<style scoped>\n",
       "    .dataframe tbody tr th:only-of-type {\n",
       "        vertical-align: middle;\n",
       "    }\n",
       "\n",
       "    .dataframe tbody tr th {\n",
       "        vertical-align: top;\n",
       "    }\n",
       "\n",
       "    .dataframe thead th {\n",
       "        text-align: right;\n",
       "    }\n",
       "</style>\n",
       "<table border=\"1\" class=\"dataframe\">\n",
       "  <thead>\n",
       "    <tr style=\"text-align: right;\">\n",
       "      <th></th>\n",
       "      <th>review_text</th>\n",
       "      <th>sentiment</th>\n",
       "    </tr>\n",
       "  </thead>\n",
       "  <tbody>\n",
       "    <tr>\n",
       "      <th>0</th>\n",
       "      <td>free to play but not free to enjoy</td>\n",
       "      <td>True</td>\n",
       "    </tr>\n",
       "    <tr>\n",
       "      <th>1</th>\n",
       "      <td>I want Mara Sov to stomp me</td>\n",
       "      <td>True</td>\n",
       "    </tr>\n",
       "    <tr>\n",
       "      <th>2</th>\n",
       "      <td>It's not a game it's a job</td>\n",
       "      <td>False</td>\n",
       "    </tr>\n",
       "    <tr>\n",
       "      <th>3</th>\n",
       "      <td>Horrible Game</td>\n",
       "      <td>True</td>\n",
       "    </tr>\n",
       "    <tr>\n",
       "      <th>4</th>\n",
       "      <td>I have spent an ungodly amount of time on this game. Every time I load the starting screen ask myself the same question...\"Why?\". I later come to the same conclusion after I rage quit from playing trials, iron banner, or the crucible. After being skull fucked into oblivion for the millionth time, by a team of shotgunning apes, that conclusion is simply put. It is because i hate myself. I like to consider myself a calm and collected human being but after i play a match of trials its as if I have the overwhelming feeling to know what a shotgun shell taste like. The only thing that makes the pvp so bad in this game is the developers have no concept of matchmaking and the communities incessant need to gate keep the tower. One match you will feel like the people you are playing against are about your skill level. The next match, and every match after that, you will be matched with people that have not seen the sunlight since their mom drove them home from the hospital from their birth. If there was an exotic quest for going outside I think they would be incapable of such a feat just due to the fact they cannot get out of their chair, have you seen the south park episode where they play WoW, that is them. The only redeeming quality this game does have is blind running a dungeon and or raid. Afterwards, you just feel this emptiness because the game has this really bad practice of having the player drain their life away to find an exotic weapon where they have the off chance of acquiring. Ever heard of the Vex Mythoclast? Me neither. Do I recommend this game? Yes, if you live in your parents basement and literally having to do with your life, then fuck yeah please go for it, you fuck. Otherwise, no, you would have better time going to college, getting a degree, finding a girlfriend, getting cheated on, then finding another, getting married, having kids, having a mortgage, taking loans, getting insane credit card debt, and then finally dying before stumbling across the Vex.</td>\n",
       "      <td>True</td>\n",
       "    </tr>\n",
       "  </tbody>\n",
       "</table>\n",
       "</div>"
      ],
      "text/plain": [
       "                                                                                                                                                                                                                                                                                                                                                                                                                                                                                                                                                                                                                                                                                                                                                                                                                                                                                                                                                                                                                                                                                                                                                                                                                                                                                                                                                                                                                                                                                                                                                                                                                                                                                                                                                                                                                                                                                                                                                                                                                                                                       review_text  \\\n",
       "0                                                                                                                                                                                                                                                                                                                                                                                                                                                                                                                                                                                                                                                                                                                                                                                                                                                                                                                                                                                                                                                                                                                                                                                                                                                                                                                                                                                                                                                                                                                                                                                                                                                                                                                                                                                                                                                                                                                                                                                                                                               free to play but not free to enjoy   \n",
       "1                                                                                                                                                                                                                                                                                                                                                                                                                                                                                                                                                                                                                                                                                                                                                                                                                                                                                                                                                                                                                                                                                                                                                                                                                                                                                                                                                                                                                                                                                                                                                                                                                                                                                                                                                                                                                                                                                                                                                                                                                                                      I want Mara Sov to stomp me   \n",
       "2                                                                                                                                                                                                                                                                                                                                                                                                                                                                                                                                                                                                                                                                                                                                                                                                                                                                                                                                                                                                                                                                                                                                                                                                                                                                                                                                                                                                                                                                                                                                                                                                                                                                                                                                                                                                                                                                                                                                                                                                                                                       It's not a game it's a job   \n",
       "3                                                                                                                                                                                                                                                                                                                                                                                                                                                                                                                                                                                                                                                                                                                                                                                                                                                                                                                                                                                                                                                                                                                                                                                                                                                                                                                                                                                                                                                                                                                                                                                                                                                                                                                                                                                                                                                                                                                                                                                                                                                                    Horrible Game   \n",
       "4  I have spent an ungodly amount of time on this game. Every time I load the starting screen ask myself the same question...\"Why?\". I later come to the same conclusion after I rage quit from playing trials, iron banner, or the crucible. After being skull fucked into oblivion for the millionth time, by a team of shotgunning apes, that conclusion is simply put. It is because i hate myself. I like to consider myself a calm and collected human being but after i play a match of trials its as if I have the overwhelming feeling to know what a shotgun shell taste like. The only thing that makes the pvp so bad in this game is the developers have no concept of matchmaking and the communities incessant need to gate keep the tower. One match you will feel like the people you are playing against are about your skill level. The next match, and every match after that, you will be matched with people that have not seen the sunlight since their mom drove them home from the hospital from their birth. If there was an exotic quest for going outside I think they would be incapable of such a feat just due to the fact they cannot get out of their chair, have you seen the south park episode where they play WoW, that is them. The only redeeming quality this game does have is blind running a dungeon and or raid. Afterwards, you just feel this emptiness because the game has this really bad practice of having the player drain their life away to find an exotic weapon where they have the off chance of acquiring. Ever heard of the Vex Mythoclast? Me neither. Do I recommend this game? Yes, if you live in your parents basement and literally having to do with your life, then fuck yeah please go for it, you fuck. Otherwise, no, you would have better time going to college, getting a degree, finding a girlfriend, getting cheated on, then finding another, getting married, having kids, having a mortgage, taking loans, getting insane credit card debt, and then finally dying before stumbling across the Vex.   \n",
       "\n",
       "   sentiment  \n",
       "0       True  \n",
       "1       True  \n",
       "2      False  \n",
       "3       True  \n",
       "4       True  "
      ]
     },
     "metadata": {},
     "output_type": "display_data"
    },
    {
     "name": "stdout",
     "output_type": "stream",
     "text": [
      "<class 'pandas.core.frame.DataFrame'>\n",
      "RangeIndex: 32985 entries, 0 to 32984\n",
      "Data columns (total 2 columns):\n",
      " #   Column       Non-Null Count  Dtype \n",
      "---  ------       --------------  ----- \n",
      " 0   review_text  32936 non-null  object\n",
      " 1   sentiment    32985 non-null  bool  \n",
      "dtypes: bool(1), object(1)\n",
      "memory usage: 290.0+ KB\n"
     ]
    }
   ],
   "source": [
    "data = df[[\"review_text\",\"voted_up\"]].rename(columns = {\"voted_up\":\"sentiment\"})\n",
    "pd.set_option(\"display.max_colwidth\",None)\n",
    "display(data.head())\n",
    "data.info()"
   ]
  },
  {
   "cell_type": "code",
   "execution_count": 3,
   "id": "981edcf1",
   "metadata": {},
   "outputs": [],
   "source": [
    "#preprocess function\n",
    "import re\n",
    "from bs4 import BeautifulSoup\n",
    "from nltk.corpus import stopwords\n",
    "stopwords = set(stopwords.words('english')) \n",
    "def text_preprocess(text,num):\n",
    "    \n",
    "    new_string = text.lower() #lowercase text\n",
    "    \n",
    "    new_string = BeautifulSoup(new_string, \"lxml\").text #remove html tags\n",
    "    \n",
    "    new_string = re.sub(r'\\([^)]*\\)', '', new_string) #remove parentheses\n",
    "    new_string = re.sub('\"','', new_string)   \n",
    "    new_string = re.sub(r\"'s\\b\",\"\",new_string)\n",
    "    new_string = re.sub(\"[^a-zA-Z]\", \" \", new_string) \n",
    "    new_string = re.sub('[m]{2,}', 'mm', new_string)\n",
    "    if(num==0):\n",
    "        tokens = [w for w in new_string.split() if not w in stopwords]\n",
    "    else:\n",
    "        tokens=new_string.split()\n",
    "    long_words=[]\n",
    "    for i in tokens:\n",
    "        if len(i)>1:                                                 #removing short word\n",
    "            long_words.append(i)   \n",
    "    return (\" \".join(long_words)).strip()"
   ]
  },
  {
   "cell_type": "code",
   "execution_count": 4,
   "id": "22854a47",
   "metadata": {
    "scrolled": true
   },
   "outputs": [
    {
     "data": {
      "image/png": "[encoded data removed]",
      "text/plain": [
       "<Figure size 432x288 with 1 Axes>"
      ]
     },
     "metadata": {
      "needs_background": "light"
     },
     "output_type": "display_data"
    }
   ],
   "source": [
    "#check class balance of sentiment\n",
    "cb = sns.countplot(data[\"sentiment\"])\n",
    "cb.set_xticklabels([\"voted down\", \"voted up\"])\n",
    "plt.show()"
   ]
  },
  {
   "cell_type": "code",
   "execution_count": 5,
   "id": "c24ba856",
   "metadata": {
    "scrolled": true
   },
   "outputs": [
    {
     "data": {
      "text/html": [
       "<div>\n",
       "<style scoped>\n",
       "    .dataframe tbody tr th:only-of-type {\n",
       "        vertical-align: middle;\n",
       "    }\n",
       "\n",
       "    .dataframe tbody tr th {\n",
       "        vertical-align: top;\n",
       "    }\n",
       "\n",
       "    .dataframe thead th {\n",
       "        text-align: right;\n",
       "    }\n",
       "</style>\n",
       "<table border=\"1\" class=\"dataframe\">\n",
       "  <thead>\n",
       "    <tr style=\"text-align: right;\">\n",
       "      <th></th>\n",
       "      <th>review_text</th>\n",
       "      <th>sentiment</th>\n",
       "    </tr>\n",
       "  </thead>\n",
       "  <tbody>\n",
       "    <tr>\n",
       "      <th>0</th>\n",
       "      <td>free play free enjoy</td>\n",
       "      <td>1</td>\n",
       "    </tr>\n",
       "    <tr>\n",
       "      <th>1</th>\n",
       "      <td>want mara sov stomp</td>\n",
       "      <td>1</td>\n",
       "    </tr>\n",
       "    <tr>\n",
       "      <th>2</th>\n",
       "      <td>game job</td>\n",
       "      <td>0</td>\n",
       "    </tr>\n",
       "    <tr>\n",
       "      <th>3</th>\n",
       "      <td>horrible game</td>\n",
       "      <td>1</td>\n",
       "    </tr>\n",
       "    <tr>\n",
       "      <th>4</th>\n",
       "      <td>spent ungodly amount time game every time load starting screen ask question later come conclusion rage quit playing trials iron banner crucible skull fucked oblivion millionth time team shotgunning apes conclusion simply put hate like consider calm collected human play match trials overwhelming feeling know shotgun shell taste like thing makes pvp bad game developers concept matchmaking communities incessant need gate keep tower one match feel like people playing skill level next match every match matched people seen sunlight since mom drove home hospital birth exotic quest going outside think would incapable feat due fact cannot get chair seen south park episode play wow redeeming quality game blind running dungeon raid afterwards feel emptiness game really bad practice player drain life away find exotic weapon chance acquiring ever heard vex mythoclast neither recommend game yes live parents basement literally life fuck yeah please go fuck otherwise would better time going college getting degree finding girlfriend getting cheated finding another getting married kids mortgage taking loans getting insane credit card debt finally dying stumbling across vex</td>\n",
       "      <td>1</td>\n",
       "    </tr>\n",
       "  </tbody>\n",
       "</table>\n",
       "</div>"
      ],
      "text/plain": [
       "                                                                                                                                                                                                                                                                                                                                                                                                                                                                                                                                                                                                                                                                                                                                                                                                                                                                                                                                                                                                                                                                                                                                                                                                             review_text  \\\n",
       "0                                                                                                                                                                                                                                                                                                                                                                                                                                                                                                                                                                                                                                                                                                                                                                                                                                                                                                                                                                                                                                                                                                                                                                                                   free play free enjoy   \n",
       "1                                                                                                                                                                                                                                                                                                                                                                                                                                                                                                                                                                                                                                                                                                                                                                                                                                                                                                                                                                                                                                                                                                                                                                                                    want mara sov stomp   \n",
       "2                                                                                                                                                                                                                                                                                                                                                                                                                                                                                                                                                                                                                                                                                                                                                                                                                                                                                                                                                                                                                                                                                                                                                                                                               game job   \n",
       "3                                                                                                                                                                                                                                                                                                                                                                                                                                                                                                                                                                                                                                                                                                                                                                                                                                                                                                                                                                                                                                                                                                                                                                                                          horrible game   \n",
       "4  spent ungodly amount time game every time load starting screen ask question later come conclusion rage quit playing trials iron banner crucible skull fucked oblivion millionth time team shotgunning apes conclusion simply put hate like consider calm collected human play match trials overwhelming feeling know shotgun shell taste like thing makes pvp bad game developers concept matchmaking communities incessant need gate keep tower one match feel like people playing skill level next match every match matched people seen sunlight since mom drove home hospital birth exotic quest going outside think would incapable feat due fact cannot get chair seen south park episode play wow redeeming quality game blind running dungeon raid afterwards feel emptiness game really bad practice player drain life away find exotic weapon chance acquiring ever heard vex mythoclast neither recommend game yes live parents basement literally life fuck yeah please go fuck otherwise would better time going college getting degree finding girlfriend getting cheated finding another getting married kids mortgage taking loans getting insane credit card debt finally dying stumbling across vex   \n",
       "\n",
       "   sentiment  \n",
       "0          1  \n",
       "1          1  \n",
       "2          0  \n",
       "3          1  \n",
       "4          1  "
      ]
     },
     "execution_count": 5,
     "metadata": {},
     "output_type": "execute_result"
    }
   ],
   "source": [
    "#review text preprocessing\n",
    "data.drop_duplicates(subset=['review_text'], inplace=True) \n",
    "data.dropna(axis=0, inplace=True) \n",
    "data['review_text'] = data['review_text'].apply(lambda x: text_preprocess(x,0)) #apply method does not support inplace argument\n",
    "data['sentiment'] = data['sentiment'].apply(lambda x: 1 if x else 0) #convert target to binary int\n",
    "\n",
    "#display cleaned data\n",
    "data.head(5)"
   ]
  },
  {
   "cell_type": "code",
   "execution_count": 6,
   "id": "661bd118",
   "metadata": {
    "scrolled": false
   },
   "outputs": [
    {
     "data": {
      "text/html": [
       "<div>\n",
       "<style scoped>\n",
       "    .dataframe tbody tr th:only-of-type {\n",
       "        vertical-align: middle;\n",
       "    }\n",
       "\n",
       "    .dataframe tbody tr th {\n",
       "        vertical-align: top;\n",
       "    }\n",
       "\n",
       "    .dataframe thead th {\n",
       "        text-align: right;\n",
       "    }\n",
       "</style>\n",
       "<table border=\"1\" class=\"dataframe\">\n",
       "  <thead>\n",
       "    <tr style=\"text-align: right;\">\n",
       "      <th></th>\n",
       "      <th>review_text</th>\n",
       "      <th>sentiment</th>\n",
       "    </tr>\n",
       "  </thead>\n",
       "  <tbody>\n",
       "    <tr>\n",
       "      <th>0</th>\n",
       "      <td>standwithukraine war fuckthewar ukraine</td>\n",
       "      <td>1</td>\n",
       "    </tr>\n",
       "    <tr>\n",
       "      <th>1</th>\n",
       "      <td>grr</td>\n",
       "      <td>1</td>\n",
       "    </tr>\n",
       "    <tr>\n",
       "      <th>2</th>\n",
       "      <td>convinced game somehow reversing entropy</td>\n",
       "      <td>1</td>\n",
       "    </tr>\n",
       "    <tr>\n",
       "      <th>3</th>\n",
       "      <td>week hours pretty normal</td>\n",
       "      <td>1</td>\n",
       "    </tr>\n",
       "    <tr>\n",
       "      <th>4</th>\n",
       "      <td>recommend game really enjoy going bed mad waking instantly getting touch inner rage fuckin hate self whatever reason good way keep humble fantastically toxic community</td>\n",
       "      <td>1</td>\n",
       "    </tr>\n",
       "  </tbody>\n",
       "</table>\n",
       "</div>"
      ],
      "text/plain": [
       "                                                                                                                                                               review_text  \\\n",
       "0                                                                                                                                  standwithukraine war fuckthewar ukraine   \n",
       "1                                                                                                                                                                      grr   \n",
       "2                                                                                                                                 convinced game somehow reversing entropy   \n",
       "3                                                                                                                                                 week hours pretty normal   \n",
       "4  recommend game really enjoy going bed mad waking instantly getting touch inner rage fuckin hate self whatever reason good way keep humble fantastically toxic community   \n",
       "\n",
       "   sentiment  \n",
       "0          1  \n",
       "1          1  \n",
       "2          1  \n",
       "3          1  \n",
       "4          1  "
      ]
     },
     "execution_count": 6,
     "metadata": {},
     "output_type": "execute_result"
    }
   ],
   "source": [
    "import random\n",
    "#randomly down-sample majority class since the dataset is large\n",
    "random.seed(37)\n",
    "minority_class = data[data[\"sentiment\"] ==0]\n",
    "majority_class = data[data[\"sentiment\"] ==1]\n",
    "sliced_index = random.choices((majority_class.index), k=len(minority_class)) #randomly choose index list\n",
    "data= pd.concat([majority_class.loc[sliced_index], minority_class]).reset_index(drop=True) #concatenate two classes\n",
    "\n",
    "#display down-sampled data\n",
    "data.head()"
   ]
  },
  {
   "cell_type": "code",
   "execution_count": 7,
   "id": "96c2543c",
   "metadata": {},
   "outputs": [
    {
     "data": {
      "image/png": "[encoded data removed]",
      "text/plain": [
       "<Figure size 432x288 with 1 Axes>"
      ]
     },
     "metadata": {
      "needs_background": "light"
     },
     "output_type": "display_data"
    }
   ],
   "source": [
    "#check class balance again\n",
    "cb2 = sns.countplot(data[\"sentiment\"])\n",
    "cb2.set_xticklabels([\"voted down\", \"voted up\"])\n",
    "plt.show()"
   ]
  },
  {
   "cell_type": "code",
   "execution_count": 8,
   "id": "1beb41d0",
   "metadata": {},
   "outputs": [
    {
     "name": "stdout",
     "output_type": "stream",
     "text": [
      "size of trainset: 15552\n",
      "size of testset: 1728\n"
     ]
    }
   ],
   "source": [
    "from sklearn.model_selection import train_test_split\n",
    "# split all data into 90% train and 10% holdout\n",
    "test_size = 0.1\n",
    "x_train, x_test, y_train, y_test = train_test_split(data['review_text'],\n",
    "                                                   data['sentiment'],\n",
    "                                                   test_size=test_size,\n",
    "                                                   stratify=data['sentiment'])\n",
    "print('size of trainset: {}\\nsize of testset: {}'.format(len(x_train.index), len(x_test.index)))"
   ]
  },
  {
   "cell_type": "code",
   "execution_count": 9,
   "id": "065127e3",
   "metadata": {},
   "outputs": [],
   "source": [
    "from tensorflow.keras.preprocessing.text import Tokenizer\n",
    "from tensorflow.keras.preprocessing.sequence import pad_sequences\n",
    "from tensorflow.keras.models import Sequential\n",
    "from tensorflow.keras.layers import LSTM, Dense, Dropout, SpatialDropout1D, Embedding\n",
    "from keras import initializers\n",
    "\n",
    "tokenizer = Tokenizer(num_words=5000)\n",
    "tokenizer.fit_on_texts(x_train)\n",
    "\n",
    "vocab_size = len(tokenizer.word_index) + 1\n",
    "x_train = tokenizer.texts_to_sequences(x_train)\n",
    "x_test = tokenizer.texts_to_sequences(x_test)\n",
    "\n",
    "x_train = pad_sequences(x_train, maxlen=200)\n",
    "x_test = pad_sequences(x_test, maxlen=200)\n",
    "embedding_vector_length = 32"
   ]
  },
  {
   "cell_type": "code",
   "execution_count": 10,
   "id": "ebbc1cf2",
   "metadata": {},
   "outputs": [
    {
     "name": "stdout",
     "output_type": "stream",
     "text": [
      "Model: \"sequential\"\n",
      "_________________________________________________________________\n",
      "Layer (type)                 Output Shape              Param #   \n",
      "=================================================================\n",
      "embedding (Embedding)        (None, 200, 32)           844864    \n",
      "_________________________________________________________________\n",
      "spatial_dropout1d (SpatialDr (None, 200, 32)           0         \n",
      "_________________________________________________________________\n",
      "lstm (LSTM)                  (None, 50)                16600     \n",
      "_________________________________________________________________\n",
      "dropout (Dropout)            (None, 50)                0         \n",
      "_________________________________________________________________\n",
      "dense (Dense)                (None, 1)                 51        \n",
      "=================================================================\n",
      "Total params: 861,515\n",
      "Trainable params: 861,515\n",
      "Non-trainable params: 0\n",
      "_________________________________________________________________\n"
     ]
    }
   ],
   "source": [
    "model_LSTM = Sequential()\n",
    "model_LSTM.add(Embedding(vocab_size, embedding_vector_length, input_length=200))\n",
    "model_LSTM.add(SpatialDropout1D(0.25))\n",
    "model_LSTM.add(LSTM(50, dropout=0.5, recurrent_dropout=0.5))\n",
    "model_LSTM.add(Dropout(0.2))\n",
    "model_LSTM.add(Dense(1, activation='sigmoid'))\n",
    "model_LSTM.compile(loss='binary_crossentropy',optimizer='adam', metrics=['accuracy'])\n",
    "model_LSTM.summary()"
   ]
  },
  {
   "cell_type": "code",
   "execution_count": 11,
   "id": "19791304",
   "metadata": {},
   "outputs": [
    {
     "name": "stdout",
     "output_type": "stream",
     "text": [
      "Epoch 1/10\n",
      "389/389 [==============================] - 46s 117ms/step - loss: 0.5619 - accuracy: 0.7032 - val_loss: 0.4580 - val_accuracy: 0.7878\n",
      "Epoch 2/10\n",
      "389/389 [==============================] - 45s 116ms/step - loss: 0.3982 - accuracy: 0.8218 - val_loss: 0.4281 - val_accuracy: 0.8110\n",
      "Epoch 3/10\n",
      "389/389 [==============================] - 50s 129ms/step - loss: 0.3534 - accuracy: 0.8519 - val_loss: 0.4307 - val_accuracy: 0.8126\n",
      "Epoch 4/10\n",
      "389/389 [==============================] - 53s 136ms/step - loss: 0.3189 - accuracy: 0.8655 - val_loss: 0.4350 - val_accuracy: 0.8116\n",
      "Epoch 5/10\n",
      "389/389 [==============================] - 56s 145ms/step - loss: 0.2990 - accuracy: 0.8764 - val_loss: 0.4457 - val_accuracy: 0.8132\n",
      "Epoch 6/10\n",
      "389/389 [==============================] - 54s 138ms/step - loss: 0.2832 - accuracy: 0.8838 - val_loss: 0.4492 - val_accuracy: 0.8177\n",
      "Epoch 7/10\n",
      "389/389 [==============================] - 52s 134ms/step - loss: 0.2731 - accuracy: 0.8885 - val_loss: 0.4530 - val_accuracy: 0.8213\n",
      "Epoch 8/10\n",
      "389/389 [==============================] - 52s 133ms/step - loss: 0.2594 - accuracy: 0.8947 - val_loss: 0.4684 - val_accuracy: 0.8184\n",
      "Epoch 9/10\n",
      "389/389 [==============================] - 50s 128ms/step - loss: 0.2512 - accuracy: 0.8959 - val_loss: 0.4855 - val_accuracy: 0.8194\n",
      "Epoch 10/10\n",
      "389/389 [==============================] - 54s 139ms/step - loss: 0.2398 - accuracy: 0.8997 - val_loss: 0.4710 - val_accuracy: 0.8235\n"
     ]
    }
   ],
   "source": [
    "history = model_LSTM.fit(x_train,y_train, validation_split=0.2, epochs=10, batch_size=32)"
   ]
  },
  {
   "cell_type": "code",
   "execution_count": 12,
   "id": "4ae66ad3",
   "metadata": {},
   "outputs": [
    {
     "name": "stdout",
     "output_type": "stream",
     "text": [
      "54/54 [==============================] - 1s 14ms/step - loss: 0.5367 - accuracy: 0.8032\n"
     ]
    }
   ],
   "source": [
    "result = model_LSTM.evaluate(x_test, y_test)"
   ]
  }
 ],
 "metadata": {
  "kernelspec": {
   "display_name": "Python 3",
   "language": "python",
   "name": "python3"
  },
  "language_info": {
   "codemirror_mode": {
    "name": "ipython",
    "version": 3
   },
   "file_extension": ".py",
   "mimetype": "text/x-python",
   "name": "python",
   "nbconvert_exporter": "python",
   "pygments_lexer": "ipython3",
   "version": "3.8.8"
  }
 },
 "nbformat": 4,
 "nbformat_minor": 5
}
