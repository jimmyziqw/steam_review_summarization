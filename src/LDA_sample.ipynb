{
 "cells": [
  {
   "cell_type": "code",
   "execution_count": 1,
   "metadata": {},
   "outputs": [
    {
     "ename": "KeyboardInterrupt",
     "evalue": "",
     "output_type": "error",
     "traceback": [
      "\u001b[1;31m---------------------------------------------------------------------------\u001b[0m",
      "\u001b[1;31mKeyboardInterrupt\u001b[0m                         Traceback (most recent call last)",
      "\u001b[1;32m<ipython-input-1-de0b53aa8267>\u001b[0m in \u001b[0;36m<module>\u001b[1;34m\u001b[0m\n\u001b[0;32m      2\u001b[0m \u001b[1;32mimport\u001b[0m \u001b[0mnumpy\u001b[0m \u001b[1;32mas\u001b[0m \u001b[0mnp\u001b[0m\u001b[1;33m\u001b[0m\u001b[1;33m\u001b[0m\u001b[0m\n\u001b[0;32m      3\u001b[0m \u001b[1;32mimport\u001b[0m \u001b[0mpandas\u001b[0m \u001b[1;32mas\u001b[0m \u001b[0mpd\u001b[0m\u001b[1;33m\u001b[0m\u001b[1;33m\u001b[0m\u001b[0m\n\u001b[1;32m----> 4\u001b[1;33m \u001b[1;32mfrom\u001b[0m \u001b[0msklearn\u001b[0m \u001b[1;32mimport\u001b[0m \u001b[1;33m*\u001b[0m\u001b[1;33m\u001b[0m\u001b[1;33m\u001b[0m\u001b[0m\n\u001b[0m\u001b[0;32m      5\u001b[0m \u001b[1;32mimport\u001b[0m \u001b[0mseaborn\u001b[0m \u001b[1;32mas\u001b[0m \u001b[0msns\u001b[0m\u001b[1;33m\u001b[0m\u001b[1;33m\u001b[0m\u001b[0m\n\u001b[0;32m      6\u001b[0m \u001b[1;32mimport\u001b[0m \u001b[0mmatplotlib\u001b[0m\u001b[1;33m.\u001b[0m\u001b[0mpyplot\u001b[0m \u001b[1;32mas\u001b[0m \u001b[0mplt\u001b[0m\u001b[1;33m\u001b[0m\u001b[1;33m\u001b[0m\u001b[0m\n",
      "\u001b[1;32md:\\anaconda3\\lib\\site-packages\\sklearn\\datasets\\__init__.py\u001b[0m in \u001b[0;36m<module>\u001b[1;34m\u001b[0m\n\u001b[0;32m     46\u001b[0m \u001b[1;32mfrom\u001b[0m \u001b[1;33m.\u001b[0m\u001b[0m_svmlight_format_io\u001b[0m \u001b[1;32mimport\u001b[0m \u001b[0mload_svmlight_files\u001b[0m\u001b[1;33m\u001b[0m\u001b[1;33m\u001b[0m\u001b[0m\n\u001b[0;32m     47\u001b[0m \u001b[1;32mfrom\u001b[0m \u001b[1;33m.\u001b[0m\u001b[0m_svmlight_format_io\u001b[0m \u001b[1;32mimport\u001b[0m \u001b[0mdump_svmlight_file\u001b[0m\u001b[1;33m\u001b[0m\u001b[1;33m\u001b[0m\u001b[0m\n\u001b[1;32m---> 48\u001b[1;33m \u001b[1;32mfrom\u001b[0m \u001b[1;33m.\u001b[0m\u001b[0m_olivetti_faces\u001b[0m \u001b[1;32mimport\u001b[0m \u001b[0mfetch_olivetti_faces\u001b[0m\u001b[1;33m\u001b[0m\u001b[1;33m\u001b[0m\u001b[0m\n\u001b[0m\u001b[0;32m     49\u001b[0m \u001b[1;32mfrom\u001b[0m \u001b[1;33m.\u001b[0m\u001b[0m_species_distributions\u001b[0m \u001b[1;32mimport\u001b[0m \u001b[0mfetch_species_distributions\u001b[0m\u001b[1;33m\u001b[0m\u001b[1;33m\u001b[0m\u001b[0m\n\u001b[0;32m     50\u001b[0m \u001b[1;32mfrom\u001b[0m \u001b[1;33m.\u001b[0m\u001b[0m_california_housing\u001b[0m \u001b[1;32mimport\u001b[0m \u001b[0mfetch_california_housing\u001b[0m\u001b[1;33m\u001b[0m\u001b[1;33m\u001b[0m\u001b[0m\n",
      "\u001b[1;32md:\\anaconda3\\lib\\site-packages\\sklearn\\datasets\\_olivetti_faces.py\u001b[0m in \u001b[0;36m<module>\u001b[1;34m\u001b[0m\n\u001b[0;32m     18\u001b[0m \u001b[1;33m\u001b[0m\u001b[0m\n\u001b[0;32m     19\u001b[0m \u001b[1;32mimport\u001b[0m \u001b[0mnumpy\u001b[0m \u001b[1;32mas\u001b[0m \u001b[0mnp\u001b[0m\u001b[1;33m\u001b[0m\u001b[1;33m\u001b[0m\u001b[0m\n\u001b[1;32m---> 20\u001b[1;33m \u001b[1;32mfrom\u001b[0m \u001b[0mscipy\u001b[0m\u001b[1;33m.\u001b[0m\u001b[0mio\u001b[0m\u001b[1;33m.\u001b[0m\u001b[0mmatlab\u001b[0m \u001b[1;32mimport\u001b[0m \u001b[0mloadmat\u001b[0m\u001b[1;33m\u001b[0m\u001b[1;33m\u001b[0m\u001b[0m\n\u001b[0m\u001b[0;32m     21\u001b[0m \u001b[1;32mimport\u001b[0m \u001b[0mjoblib\u001b[0m\u001b[1;33m\u001b[0m\u001b[1;33m\u001b[0m\u001b[0m\n\u001b[0;32m     22\u001b[0m \u001b[1;33m\u001b[0m\u001b[0m\n",
      "\u001b[1;32md:\\anaconda3\\lib\\importlib\\_bootstrap.py\u001b[0m in \u001b[0;36m_find_and_load\u001b[1;34m(name, import_)\u001b[0m\n",
      "\u001b[1;32md:\\anaconda3\\lib\\importlib\\_bootstrap.py\u001b[0m in \u001b[0;36m_find_and_load_unlocked\u001b[1;34m(name, import_)\u001b[0m\n",
      "\u001b[1;32md:\\anaconda3\\lib\\importlib\\_bootstrap.py\u001b[0m in \u001b[0;36m_load_unlocked\u001b[1;34m(spec)\u001b[0m\n",
      "\u001b[1;32md:\\anaconda3\\lib\\importlib\\_bootstrap_external.py\u001b[0m in \u001b[0;36mexec_module\u001b[1;34m(self, module)\u001b[0m\n",
      "\u001b[1;32md:\\anaconda3\\lib\\importlib\\_bootstrap_external.py\u001b[0m in \u001b[0;36mget_code\u001b[1;34m(self, fullname)\u001b[0m\n",
      "\u001b[1;32md:\\anaconda3\\lib\\importlib\\_bootstrap_external.py\u001b[0m in \u001b[0;36mget_data\u001b[1;34m(self, path)\u001b[0m\n",
      "\u001b[1;31mKeyboardInterrupt\u001b[0m: "
     ]
    }
   ],
   "source": [
    "#https://www.machinelearningplus.com/nlp/topic-modeling-gensim-python/#1introduction\n",
    "import numpy as np\n",
    "import pandas as pd\n",
    "\n",
    "from sklearn import *\n",
    "import seaborn as sns\n",
    "import matplotlib.pyplot as plt\n",
    "import json\n",
    "import glob\n",
    "#Gensim\n",
    "import gensim\n",
    "import gensim.corpora as corpora\n",
    "from gensim.utils import simple_preprocess\n",
    "from gensim.models import CoherenceModel\n",
    "\n",
    "#spacy\n",
    "import spacy\n",
    "from nltk.corpus import stopwords\n",
    "\n",
    "#vis\n",
    "import pyLDAvis\n",
    "import pyLDAvis.gensim_models\n",
    "\n",
    "import warnings\n",
    "warnings.filterwarnings(\"ignore\", category=DeprecationWarning)"
   ]
  },
  {
   "cell_type": "code",
   "execution_count": null,
   "metadata": {},
   "outputs": [],
   "source": [
    "stopwords = stopwords.words('English')"
   ]
  },
  {
   "cell_type": "code",
   "execution_count": null,
   "metadata": {},
   "outputs": [],
   "source": [
    "#import os\n",
    "#import pandas as pd\n",
    "#df = pd.read_csv(os.path.join(os.path.dirname(__file__), path))"
   ]
  },
  {
   "cell_type": "code",
   "execution_count": 8,
   "metadata": {},
   "outputs": [
    {
     "name": "stdout",
     "output_type": "stream",
     "text": [
      "['c:\\\\Users\\\\jimmy\\\\My Drive\\\\PYTHON_PROJECTS\\\\game_review_autoreporter\\\\src', 'd:\\\\anaconda3\\\\python38.zip', 'd:\\\\anaconda3\\\\DLLs', 'd:\\\\anaconda3\\\\lib', 'd:\\\\anaconda3', '', 'd:\\\\anaconda3\\\\lib\\\\site-packages', 'd:\\\\anaconda3\\\\lib\\\\site-packages\\\\locket-0.2.1-py3.8.egg', 'd:\\\\anaconda3\\\\lib\\\\site-packages\\\\win32', 'd:\\\\anaconda3\\\\lib\\\\site-packages\\\\win32\\\\lib', 'd:\\\\anaconda3\\\\lib\\\\site-packages\\\\Pythonwin', 'd:\\\\anaconda3\\\\lib\\\\site-packages\\\\IPython\\\\extensions', 'C:\\\\Users\\\\jimmy\\\\.ipython']\n",
      "<class 'pandas.core.frame.DataFrame'>\n",
      "RangeIndex: 1000 entries, 0 to 999\n",
      "Data columns (total 7 columns):\n",
      " #   Column               Non-Null Count  Dtype  \n",
      "---  ------               --------------  -----  \n",
      " 0   review_text          994 non-null    object \n",
      " 1   timestamp_created    1000 non-null   int64  \n",
      " 2   voted_up             1000 non-null   bool   \n",
      " 3   votes_up             1000 non-null   int64  \n",
      " 4   votes_funny          1000 non-null   int64  \n",
      " 5   weighted_vote_score  1000 non-null   float64\n",
      " 6   comment_count        1000 non-null   int64  \n",
      "dtypes: bool(1), float64(1), int64(4), object(1)\n",
      "memory usage: 48.0+ KB\n"
     ]
    }
   ],
   "source": [
    "#import csv as dataframe\n",
    "import sys\n",
    "print(sys.path)\n",
    "import pandas as pd\n",
    "\n",
    "path = \"../dataset/1145360_steam_reviews.csv\"\n",
    "df = pd.read_csv(path, delimiter=\",\")\n",
    "df.head()\n",
    "df.info()"
   ]
  },
  {
   "cell_type": "code",
   "execution_count": null,
   "metadata": {},
   "outputs": [],
   "source": [
    "#!python -m spacy download en_core_web_sm\n",
    "def printFunc()\n",
    "def lemmatization(texts, allowed_postags=[\"NOUN\", \"ADJ\", \"VERB\", \"ADV\"]):\n",
    "    nlp = spacy.load(\"en_core_web_sm\", disable=[\"parser\", \"ner\"])\n",
    "    texts_out = []\n",
    "    for text in texts:\n",
    "        if type(text) is not str:\n",
    "            raise TypeError(f'Expected strings but got {type(text)}')\n",
    "       \n",
    "        doc = nlp(text)\n",
    "        new_text = []\n",
    "        for token in doc:\n",
    "            if token.pos_ in allowed_postags:\n",
    "                new_text.append(token.lemma_)\n",
    "        final = \" \".join(new_text)\n",
    "        texts_out.append(final)\n",
    "    return (texts_out)\n",
    "\n",
    "def gen_words(texts):\n",
    "    final = []\n",
    "    for text in texts:\n",
    "        new = gensim.utils.simple_preprocess(text, deacc=True)\n",
    "        final.append(new)\n",
    "    return (final)"
   ]
  },
  {
   "cell_type": "code",
   "execution_count": null,
   "metadata": {},
   "outputs": [
    {
     "name": "stdout",
     "output_type": "stream",
     "text": [
      "So, I actually have a lot more play time in Hades than shown on Steam, because I originally bought it on Switch. It's a better experience on Steam because Xbox One controller > Joy-Cons. I bought it on sale on Steam to support these game makers even further, because they made a bonafide masterpiece when they made Hades.\n",
      "\n",
      "This isn't going to be a very detailed review. Hades looks fantastic, sounds even better, and plays with the energy of an isometric DOOM game. You play as Zagreus, son of Hades, whose goal is to escape the Underworld, uncovering mysteries, meeting distinct, well-defined characters, and tearing up the scenery along the way. The game unfolds in such an elegant, natural way. The house of Hades seems to expand every time you \"die\" and return home, there's an ever-expanding codex to learn more info about the game's characters, enemies, and items, and the feeling of progression just seems to continue for a huge length of time, well past what I would expect. That strengthens the feeling that the game just doesn't get old or stop being fun.\n",
      "\n",
      "My GOTY for 2020. Hugely recommended\n",
      "<spacy.lang.en.English object at 0x000002019E542070>\n",
      "so actually lot more play time show originally buy well experience controller buy sale steam support game maker even far make bonafide masterpiece make go very detailed review look fantastic sound even well play energy isometric game play son goal escape uncover mystery meet distinct well define character tear scenery way game unfold elegant natural way house seem expand time die return home ever expand codex learn more info game character enemy item feeling progression just seem continue huge length time well expect strengthen feeling game just get old stop fun goty hugely recommend\n",
      "['so', 'actually', 'lot', 'more', 'play', 'time', 'show', 'originally', 'buy', 'well', 'experience', 'controller', 'buy', 'sale', 'steam', 'support', 'game', 'maker', 'even', 'far', 'make', 'bonafide', 'masterpiece', 'make', 'go', 'very', 'detailed', 'review', 'look', 'fantastic', 'sound', 'even', 'well', 'play', 'energy', 'isometric', 'game', 'play', 'son', 'goal', 'escape', 'uncover', 'mystery', 'meet', 'distinct', 'well', 'define', 'character', 'tear', 'scenery', 'way', 'game', 'unfold', 'elegant', 'natural', 'way', 'house', 'seem', 'expand', 'time', 'die', 'return', 'home', 'ever', 'expand', 'codex', 'learn', 'more', 'info', 'game', 'character', 'enemy', 'item', 'feeling', 'progression', 'just', 'seem', 'continue', 'huge', 'length', 'time', 'well', 'expect', 'strengthen', 'feeling', 'game', 'just', 'get', 'old', 'stop', 'fun', 'goty', 'hugely', 'recommend']\n",
      "---------\n"
     ]
    }
   ],
   "source": [
    "print(data[7])\n",
    "print(lemmatization(data)[7])\n",
    "print(data_words[7])\n",
    "print('---------')\n",
    "#print(id2word[7])\n"
   ]
  },
  {
   "cell_type": "code",
   "execution_count": null,
   "metadata": {},
   "outputs": [
    {
     "name": "stdout",
     "output_type": "stream",
     "text": [
      "[(0, 1), (1, 1)]\n",
      "pet\n"
     ]
    }
   ],
   "source": [
    "lemmatized_texts = lemmatization(data)\n",
    "data_words = gen_words(lemmatized_texts)\n",
    "\n",
    "id2word = corpora.Dictionary(data_words)\n",
    "\n",
    "corpus = []\n",
    "for text in data_words:\n",
    "    new = id2word.doc2bow(text)\n",
    "    corpus.append(new)\n",
    "\n",
    "print (corpus[0][0:20])\n",
    "\n",
    "word = id2word[[0][:1][0]]\n",
    "print (word)"
   ]
  },
  {
   "cell_type": "code",
   "execution_count": null,
   "metadata": {},
   "outputs": [],
   "source": [
    "lda_model = gensim.models.ldamodel.LdaModel(corpus=corpus,\n",
    "                                           id2word=id2word,\n",
    "                                           num_topics=10,\n",
    "                                           random_state=100,\n",
    "                                           update_every=1,\n",
    "                                           chunksize=100,\n",
    "                                           passes=10,\n",
    "                                           alpha=\"auto\")\n",
    " "
   ]
  },
  {
   "cell_type": "code",
   "execution_count": null,
   "metadata": {},
   "outputs": [
    {
     "data": {
      "text/html": [
       "\n",
       "<link rel=\"stylesheet\" type=\"text/css\" href=\"https://cdn.jsdelivr.net/gh/bmabey/pyLDAvis@3.3.1/pyLDAvis/js/ldavis.v1.0.0.css\">\n",
       "\n",
       "\n",
       "<div id=\"ldavis_el883222061419908327043782795\"></div>\n",
       "<script type=\"text/javascript\">\n",
       "\n",
       "var ldavis_el883222061419908327043782795_data = {\"mdsDat\": {\"x\": [0.4045120657951081, 0.1143700146904634, -0.3868113728690433, -0.1701423718940157, 0.16854325761018965, -0.08819546727995925, -0.08381746093795411, -0.22238242812846917, 0.17055988510007936, 0.09336387791360108], \"y\": [0.175467921384796, 0.32910044954696416, 0.06163134230252709, 0.32283245801011284, -0.32647980873028704, 0.052033026662713006, -0.2959524573358153, -0.17164364483201075, -0.14055685125881187, -0.006432435750188076], \"topics\": [1, 2, 3, 4, 5, 6, 7, 8, 9, 10], \"cluster\": [1, 1, 1, 1, 1, 1, 1, 1, 1, 1], \"Freq\": [30.140803903359014, 19.32571456992299, 17.650666416328864, 10.184801796877197, 6.519835271362595, 5.3897919179142235, 3.6412554403677584, 3.0618863325405554, 2.704697807625213, 1.380546543701584]}, \"tinfo\": {\"Term\": [\"game\", \"good\", \"play\", \"gameplay\", \"get\", \"so\", \"fun\", \"great\", \"run\", \"very\", \"like\", \"story\", \"hour\", \"worth\", \"love\", \"amazing\", \"again\", \"even\", \"time\", \"combat\", \"just\", \"review\", \"give\", \"enough\", \"roguelite\", \"also\", \"lot\", \"voice\", \"recommend\", \"think\", \"good\", \"play\", \"amazing\", \"love\", \"fun\", \"want\", \"ever\", \"most\", \"hard\", \"then\", \"mythology\", \"put\", \"pretty\", \"grind\", \"hade\", \"few\", \"bad\", \"need\", \"experience\", \"weapon\", \"graphic\", \"write\", \"line\", \"life\", \"aspect\", \"price\", \"change\", \"game\", \"steam\", \"stop\", \"really\", \"very\", \"much\", \"greek\", \"enjoy\", \"story\", \"make\", \"feel\", \"just\", \"look\", \"time\", \"great\", \"well\", \"try\", \"character\", \"hour\", \"different\", \"keep\", \"dialogue\", \"as\", \"take\", \"find\", \"finish\", \"know\", \"work\", \"lore\", \"progression\", \"deserve\", \"visual\", \"maybe\", \"day\", \"main\", \"miss\", \"rougelike\", \"let\", \"hear\", \"complete\", \"style\", \"strong\", \"yet\", \"talk\", \"part\", \"continue\", \"impressive\", \"choice\", \"new\", \"run\", \"even\", \"beat\", \"go\", \"buy\", \"so\", \"still\", \"get\", \"more\", \"art\", \"just\", \"well\", \"character\", \"time\", \"make\", \"do\", \"beautiful\", \"way\", \"gameplay\", \"story\", \"like\", \"think\", \"player\", \"other\", \"see\", \"soundtrack\", \"thing\", \"never\", \"excellent\", \"also\", \"genre\", \"easy\", \"type\", \"own\", \"one\", \"awesome\", \"underworld\", \"difficulty\", \"highly\", \"repetitive\", \"system\", \"high\", \"extremely\", \"base\", \"same\", \"choose\", \"skill\", \"little\", \"help\", \"various\", \"recommend\", \"roguelike\", \"only\", \"rogue\", \"come\", \"upgrade\", \"too\", \"get\", \"level\", \"say\", \"so\", \"more\", \"definitely\", \"way\", \"game\", \"combat\", \"long\", \"mechanic\", \"build\", \"boss\", \"god\", \"boon\", \"design\", \"point\", \"nice\", \"bit\", \"acting\", \"top\", \"progress\", \"writing\", \"amount\", \"element\", \"satisfy\", \"control\", \"option\", \"brilliant\", \"room\", \"date\", \"content\", \"rich\", \"call\", \"move\", \"endless\", \"challenging\", \"tight\", \"gameplay\", \"lot\", \"loop\", \"voice\", \"back\", \"music\", \"great\", \"always\", \"story\", \"art\", \"character\", \"very\", \"give\", \"absolutely\", \"die\", \"escape\", \"far\", \"interesting\", \"end\", \"there\", \"expect\", \"learn\", \"here\", \"next\", \"enemy\", \"masterpiece\", \"repeat\", \"seem\", \"random\", \"polished\", \"reach\", \"return\", \"sale\", \"attack\", \"controller\", \"battle\", \"grindy\", \"death\", \"surprise\", \"out\", \"win\", \"old\", \"time\", \"lot\", \"attempt\", \"artwork\", \"plot\", \"discover\", \"switch\", \"stuff\", \"such\", \"interaction\", \"finally\", \"usually\", \"listen\", \"forward\", \"allow\", \"devs\", \"audio\", \"invest\", \"background\", \"smooth\", \"wise\", \"close\", \"though\", \"include\", \"direction\", \"account\", \"successfully\", \"slowly\", \"treat\", \"pay\", \"on\", \"addicting\", \"encounter\", \"review\", \"certain\", \"reward\", \"more\", \"always\", \"roguelite\", \"over\", \"people\", \"start\", \"pet\", \"least\", \"favorite\", \"rouge\", \"storyline\", \"ass\", \"kick\", \"dead\", \"dog\", \"sort\", \"bored\", \"cell\", \"at\", \"basically\", \"true\", \"idea\", \"rougelite\", \"re\", \"happen\", \"infernal\", \"region\", \"note\", \"bother\", \"kiss\", \"fantastic\", \"center\", \"again\", \"do\", \"lite\", \"act\", \"rogue\", \"new\", \"only\", \"enough\", \"year\", \"action\", \"fast\", \"replayability\", \"right\", \"all\", \"around\", \"rewarding\", \"world\", \"pace\", \"video\", \"hit\", \"hand\", \"mention\", \"issue\", \"several\", \"completely\", \"especially\", \"full\", \"hack\", \"slash\", \"stellar\", \"worthy\", \"opinion\", \"class\", \"impactful\", \"exceptionally\", \"age\", \"rate\", \"gaming\", \"funny\", \"perfect\", \"ability\", \"money\", \"depth\", \"father\", \"compelling\", \"fuck\", \"leave\", \"storytelling\", \"family\", \"combine\", \"past\", \"lose\", \"value\", \"mean\", \"alike\", \"draw\", \"supergiant\", \"combo\", \"wonderfully\", \"sorry\", \"intense\", \"minute\", \"touching\", \"personal\", \"polish\", \"nuance\", \"favour\", \"fenomenal\", \"godly\", \"worth\", \"act\", \"friend\", \"replay\", \"break\", \"almost\", \"hot\", \"cool\", \"zagreus\", \"addictive\", \"insanely\", \"stunning\", \"atmosphere\", \"boy\", \"bisexual\", \"spoil\", \"gem\", \"dynamic\", \"gripe\", \"sadly\", \"dusa\", \"dude\", \"thumb\", \"frustrating\", \"thirsty\", \"murder\", \"aphrodite\", \"box\", \"capable\", \"cold\", \"fashioned\", \"format\", \"letter\", \"nevertheless\", \"peace\", \"smart\", \"so\"], \"Freq\": [831.0, 274.0, 267.0, 115.0, 193.0, 116.0, 158.0, 113.0, 119.0, 150.0, 78.0, 186.0, 82.0, 32.0, 97.0, 95.0, 36.0, 88.0, 108.0, 42.0, 140.0, 39.0, 32.0, 23.0, 24.0, 53.0, 47.0, 48.0, 56.0, 47.0, 273.86155185296553, 266.668369976325, 95.24007770858023, 96.95350899613878, 157.11856515815398, 48.44847992088183, 41.74180279704239, 37.71701583698806, 36.74077032827423, 33.744356842057634, 32.72375584319356, 31.196232934396154, 28.002951131379824, 24.14411450089587, 22.81864762638647, 22.524266400822707, 21.48936429070733, 21.164831606151278, 24.784264681435527, 60.85415088961773, 19.84732934430029, 19.744369837799056, 17.854568290650782, 17.285931756375437, 17.185658132456826, 15.57754762242, 15.08418557677522, 792.8898833672927, 15.13130784958588, 13.445576748662583, 77.51607607597649, 128.74295995344673, 52.72878168662772, 33.36310915796699, 31.09525143479688, 128.67166271489052, 78.83100167034986, 57.386894905660135, 87.28644319072258, 33.62347392332205, 58.59067997316578, 57.066502282584985, 53.12273270543332, 30.61862458149391, 43.90033822259309, 82.01196610011056, 48.28753452511198, 45.21569819962535, 44.65278237747382, 37.42355119471199, 32.30414558950577, 27.783947773440723, 22.45241843521449, 21.02982286660124, 18.945712636197946, 17.930254685398413, 18.21550700422847, 17.052366709518353, 16.25589510480641, 16.01333311518735, 15.540754283117742, 15.474813804683654, 15.470600533735702, 15.121323095409728, 14.789386333943094, 14.663602883999282, 14.632131085711865, 39.74457978433561, 14.2139331453635, 13.308013755260324, 13.107255090442173, 12.772925751290416, 12.483250081520541, 12.017631121774002, 11.782425822240425, 43.99460435654221, 99.00909214608912, 73.55948840274402, 24.85408143159206, 41.875423735398265, 30.445350040747464, 71.87965247767274, 35.83073766429542, 66.41537333322925, 39.08603088144306, 34.834618743858094, 52.15788749325605, 35.3439226708018, 33.85320282927113, 30.652828671725135, 29.611252072060513, 19.236227329145205, 19.772027270865323, 20.291530451735053, 22.23456807723106, 20.49468688139862, 77.96019123687078, 46.86924580204587, 40.017717184435085, 38.274056252254525, 36.64924662235793, 34.34920601384185, 33.073891318404954, 30.227829720221518, 25.911246783347366, 52.18065350820499, 22.812670582485786, 19.854429358442086, 18.947177300517325, 18.845862096427805, 18.33328358066416, 18.196974350014248, 17.255248213327782, 17.00192940892912, 16.861364660191093, 16.76375186343346, 16.762764081055085, 15.759476835638862, 15.704962855387894, 15.621415890195653, 15.616960209970912, 15.219607574596514, 14.995382159097515, 14.973610677467748, 14.838376874155442, 14.666873454808517, 53.66665721050491, 50.328563917541025, 41.337546044031114, 35.005747297100775, 27.844668527395953, 24.00156024177188, 33.22917449833725, 126.19049219230928, 26.55796946238962, 31.630724682125354, 38.82854327122716, 31.397714636050356, 19.597262466576602, 22.37129530535876, 26.360353767148265, 41.61132094496862, 31.780023989372893, 30.149215349733943, 29.69216969442197, 29.118355162994355, 28.96477736924094, 26.26550412615055, 24.128561250878693, 24.06492679229927, 23.87049971104039, 22.263181530314277, 18.031584346528636, 17.716974030585263, 16.22332200621847, 13.454106352268733, 13.353509890319076, 10.538961040423073, 10.073787489502747, 9.906034913708398, 9.17816829612409, 9.017098869337905, 8.821721836435572, 8.776864983147929, 8.659496749052924, 8.515223697476234, 8.445139135579597, 7.839402811839643, 7.190067808175789, 7.102778870255887, 6.864502977920945, 91.32034133756149, 36.91842314261047, 13.328734604723007, 35.039522671460354, 23.3184151526022, 29.88275596400012, 55.793183201033, 17.69081140553868, 37.245179171221096, 22.26908489887267, 21.67645722439395, 20.739366149303216, 32.22736246536516, 24.33885763754715, 23.743470419887856, 21.102406172113596, 18.16836361105643, 16.849564832962233, 16.127077256958085, 15.489639997846659, 15.416949722685864, 14.13873888568035, 14.576316387450873, 13.198065861125231, 15.334401863626452, 10.836934771446181, 10.764716113338588, 10.495262653659292, 10.32693998991486, 9.937801671938715, 9.246579069116299, 8.63634947655267, 8.483741548013205, 8.187773410109182, 8.079500109526315, 7.404544357605657, 6.834574586659564, 6.550806805678173, 6.535845870271595, 6.054630666301198, 5.999661467538298, 5.679395426556639, 18.52252089346691, 9.39201736846481, 13.901796279912155, 13.678401784753172, 11.555074149965051, 10.474404129545503, 10.420536343287546, 10.248787566503498, 8.993338019159973, 8.864717033865938, 8.798070187292437, 8.471472501569044, 8.094460204090804, 7.860181048286078, 7.318572978351656, 6.444547314429911, 6.3360001663395344, 6.087422235172965, 6.071712244173172, 5.987938404326817, 5.413794978474965, 5.245909142292896, 5.102555384003614, 5.078195096840715, 5.071605566106882, 4.991457776487608, 4.942419660560035, 4.704866354275981, 4.514888953559625, 4.44540303913428, 4.224292456521079, 4.1069857895298565, 8.097519887406293, 20.497741498766466, 7.840775567437861, 5.220910155279505, 8.200299206948745, 6.198930693781926, 24.29225677363183, 16.362450194095153, 15.085209761898575, 12.022755945743668, 10.24987364865651, 9.616165049984795, 8.685021879022491, 6.050120670395817, 6.027072572104671, 5.786350053224041, 5.786308027644627, 5.756374575703057, 5.336472089636669, 4.994796798961849, 4.613419063809927, 4.467280975433756, 4.011448084977394, 3.9133022309524037, 3.8026273788973763, 3.5924916631173383, 3.5742608690338487, 3.509089457423572, 3.366175366258804, 3.3660815417094154, 3.3660815417094154, 3.294263491513174, 3.280635475714521, 3.216233718610945, 14.82832498704675, 2.8433781356936985, 18.511966711225313, 7.540756732794149, 5.136344325791385, 5.31671908997326, 4.0133279966518565, 3.8103679042219127, 3.7562277185381565, 23.150272778522698, 17.81073998725185, 15.763603555141781, 15.501383187457389, 13.472876870291588, 12.472798263188736, 12.098976365266058, 9.065845065071175, 7.243157591106545, 7.112776372457148, 6.666367786007294, 5.866542163291373, 5.56527449152257, 5.024496142230165, 4.952058205337597, 4.7763402005062785, 4.648876486292549, 4.613038437087373, 4.202634731786481, 4.115409978398492, 4.0791766278880885, 4.0791766278880885, 3.079775416005265, 2.9987074188087695, 2.8463995106608593, 2.519681749142328, 2.327526894144964, 2.245794240128089, 2.233081522736756, 2.168843622430944, 7.8296137869585625, 2.5166041928788165, 15.932560145886917, 10.913903838892931, 10.322269445142624, 9.067847839126124, 6.653873841847177, 6.309328739364308, 5.938886455975865, 5.210845215411828, 4.9837212836393885, 4.954215717184766, 4.723092833235096, 4.627520888934419, 4.267879805504028, 3.974117802168629, 3.645059247261467, 3.5939538217517044, 3.376273907202393, 3.364285762194005, 3.2827063392221905, 3.1934567829602725, 3.085967111797925, 2.984400913502985, 2.7709622403728305, 2.427575407509418, 2.2338852132419773, 2.1316037625856654, 2.088564844676393, 2.016945233703402, 1.7683646385401521, 1.7406378562504132, 20.928094618108315, 10.263392614884335, 5.156560809855937, 4.657371649500011, 2.7456598024229053, 2.622827505309456, 11.724399610846053, 9.585090706558685, 8.292856611761453, 6.342197698270034, 3.561044912881823, 2.7871204703713564, 2.5714574876305916, 2.5061870216139193, 2.322765100822762, 2.167449660854735, 2.03131715065339, 2.029280245074231, 1.993830788189724, 1.6228703370873696, 1.6003374628258027, 1.3255943987519059, 1.3255257546262849, 1.2144200033097794, 1.135648136363762, 1.1295041628906621, 0.888810715779194, 0.826206161567007, 0.826206161567007, 0.826206161567007, 0.826206161567007, 0.826206161567007, 0.826206161567007, 0.826206161567007, 0.826206161567007, 0.826206161567007, 5.250225104770573], \"Total\": [831.0, 274.0, 267.0, 115.0, 193.0, 116.0, 158.0, 113.0, 119.0, 150.0, 78.0, 186.0, 82.0, 32.0, 97.0, 95.0, 36.0, 88.0, 108.0, 42.0, 140.0, 39.0, 32.0, 23.0, 24.0, 53.0, 47.0, 48.0, 56.0, 47.0, 274.5267815133878, 267.7528692829329, 95.91039971897935, 97.66316456263704, 158.34927544329392, 49.11380282531258, 42.40702728783687, 38.38231275049427, 37.40603438578348, 34.409643795123124, 33.38901373763877, 31.861559652150646, 28.668210846643202, 24.80938879263281, 23.484067537449064, 23.189549732033772, 22.15457599143652, 21.830151588894488, 25.597999322821412, 62.87465390156989, 20.512572517218914, 20.409654324153635, 18.51987056950395, 17.95239220270397, 17.850990170770565, 16.24282123648572, 15.796347023801262, 831.0574819796582, 15.872427252537012, 14.110781924651853, 83.06531132807629, 150.0632810014303, 59.33398023269405, 36.53280415813519, 34.817994228328914, 186.8977105282642, 109.67915121102905, 75.31172419619881, 140.01769031359674, 41.468241757569125, 108.25671375468913, 113.44060740935292, 105.71167118438304, 41.18007130730979, 102.44342850417102, 82.67766839051494, 48.953246505210316, 45.88143450838484, 45.33736830723387, 38.08925006384995, 32.96983881452461, 28.449649234699294, 23.118174344967635, 21.715237484557417, 19.611431089683983, 18.595987139172014, 18.89450545559907, 17.718095709485052, 16.921633168772804, 16.679289166510234, 16.206451116529426, 16.140608681212285, 16.136386237433925, 15.787069760552914, 15.455143819300668, 15.32939184876545, 15.297829094671386, 41.55471186701639, 14.889360174575131, 13.97372592204071, 13.775969627815538, 13.43880011194996, 13.148995565809841, 12.68349004195968, 12.448187298580047, 48.406444620990364, 119.97683849352772, 88.87693472927072, 28.110673622321542, 56.42859100541874, 38.98146596418791, 116.49135358072901, 51.89940593734855, 193.18151831889878, 79.1724123079138, 65.28430478711604, 140.01769031359674, 105.71167118438304, 102.44342850417102, 108.25671375468913, 109.67915121102905, 28.97342461218644, 33.014582974511356, 46.31162718793167, 115.9790248052991, 186.8977105282642, 78.6308499036264, 47.539614007906124, 40.6881822331755, 38.94462241653564, 37.319657851765626, 35.01960282964412, 33.744530896288936, 30.898174053536593, 26.58165022727617, 53.61447988205616, 23.483040576834036, 20.524758406541117, 19.617524062103485, 19.516240269451778, 19.00370513267051, 18.867321582809225, 17.925787766497123, 17.672366121940122, 17.532027956375455, 17.434080965610914, 17.435083976369434, 16.429820963065012, 16.375333375707427, 16.29183211392846, 16.29106328370891, 15.89009001491783, 15.665771142037928, 15.64400369118489, 15.508770190523027, 15.337462636775106, 56.66560147815654, 53.77967747488108, 47.04494021360199, 39.62518026100427, 31.788220554684663, 26.832864866661335, 39.21857277266346, 193.18151831889878, 32.30161070007304, 55.04583922585701, 116.49135358072901, 79.1724123079138, 26.843856866455216, 46.31162718793167, 831.0574819796582, 42.28757066072893, 32.45627008960205, 30.82539081193264, 30.368442948410625, 29.794641123185034, 29.641511777916644, 26.941713703202247, 24.804679361332816, 24.741215371689407, 24.54659100256671, 22.93943321821332, 18.707692535816253, 18.39315872809289, 16.89945618328613, 14.1302957467193, 14.029759082041377, 11.215243932528926, 10.74998005278604, 10.582244988202254, 9.854481146988656, 9.693826259558133, 9.498016958494548, 9.453087471165002, 9.33569707210747, 9.19147660766207, 9.121417829685717, 8.515622767622428, 7.866267053625198, 7.778962252627377, 7.5406883723724825, 115.9790248052991, 47.47259898357546, 15.52235598408172, 48.89228250749051, 31.244052343543867, 45.84004502416994, 113.44060740935292, 36.818030805299415, 186.8977105282642, 65.28430478711604, 102.44342850417102, 150.0632810014303, 32.908044642057604, 25.01971653284163, 24.4280177682719, 21.783092306063295, 18.848997655283913, 17.53026195822477, 16.807745978750518, 16.170395814858892, 16.097697246395104, 14.819523299138798, 15.283057001802957, 13.878882569096612, 16.17376166019771, 11.517599025899187, 11.445483674685638, 11.175948578332363, 11.007720162108727, 10.618840565442223, 9.92733701486185, 9.31719656034881, 9.164512628438557, 8.868602532459061, 8.760314077613948, 8.085247374113388, 7.515240084955529, 7.23139676062275, 7.216529947379234, 6.735297236800408, 6.680237378046337, 6.360281060146005, 108.25671375468913, 47.47259898357546, 14.57516301180899, 14.351752102618404, 12.228520800389443, 11.148086340998159, 11.093738658066114, 10.92214115283149, 9.666642053499466, 9.537985440978042, 9.471631583325678, 9.145051265594198, 8.767840471712447, 8.533521884673107, 7.992052754376943, 7.11875242654312, 7.009554287650205, 6.761649368469756, 6.7450042047558885, 6.661351494995055, 6.087094557659585, 5.919627594039191, 5.775760269753568, 5.751467630897908, 5.745009156709922, 5.664605719816523, 5.615670974250252, 5.378205840711969, 5.1883832887814005, 5.118673802650507, 4.897482976027363, 4.7802746178839834, 11.60323766854303, 39.978815444367754, 11.79078773203664, 9.76614425749002, 79.1724123079138, 36.818030805299415, 24.98845857908212, 17.058618456023098, 15.781462067101273, 12.719026616800162, 10.945990907398707, 10.312517695382638, 9.381257339768819, 6.746368377102214, 6.723340952123346, 6.482528033688207, 6.482494252463342, 6.452506638945273, 6.032569775669669, 5.691211723687601, 5.31005473615556, 5.163444105324724, 4.707634863240808, 4.609544066583605, 4.49877474306491, 4.289200121512397, 4.270463970670152, 4.205348405568069, 4.063077957736683, 4.063030484381454, 4.063030484381454, 3.9904745273717586, 3.9768205784867465, 3.912501037727208, 18.11241915889631, 3.5396178710455017, 36.289542991449984, 28.97342461218644, 12.221501759430945, 16.217603216247664, 39.62518026100427, 48.406444620990364, 47.04494021360199, 23.847686437339245, 18.507973744308504, 16.460888132547087, 16.198657992633642, 14.17007715389616, 13.170024614045124, 12.796197265312768, 9.763149543782003, 7.940426898247018, 7.810825005802109, 7.363579751021659, 6.563729201312992, 6.2625864281370935, 5.721692982937876, 5.649504723999669, 5.473802832198386, 5.346155364591091, 5.310173652715373, 4.8998206739303845, 4.8126073541460395, 4.776231507326695, 4.776231507326695, 3.777145738182721, 3.6958441753928333, 3.543742513604908, 3.2168411745794927, 3.0247036626592387, 2.943065215373466, 2.930479544845983, 2.8664404503351792, 12.943533222829421, 8.272812259816222, 16.634213541443174, 11.615573088731034, 11.023896324143703, 9.769537096879782, 7.357002570568604, 7.0110900283305995, 6.640404944938796, 5.912673640170061, 5.685892416714428, 5.6562791337531575, 5.424990982091931, 5.32937734212976, 4.969575203260525, 4.675789048270867, 4.346630910041936, 4.297162493228099, 4.078482014374228, 4.065929601346258, 3.98449270230387, 3.89507942350192, 3.7877347847645146, 3.6865587708819474, 3.4726097239336404, 3.1293998602079904, 2.935399060387994, 2.8332211446969566, 2.7901757856722886, 2.7188206677377647, 2.47028381890727, 2.4424401790332975, 32.348158418327664, 16.217603216247664, 8.48591158331337, 15.403339935841675, 7.219204713106269, 8.140272045811365, 12.442105743296635, 10.302868958664511, 9.011183105778118, 7.0599697011073195, 4.278795525012102, 3.50524965463204, 3.289503250529298, 3.224091628152981, 3.0404100379776984, 2.886504714253532, 2.7492546014502355, 2.7471555667345005, 2.7123616286637278, 2.34070916902061, 2.3180160810984285, 2.0432981548274807, 2.043219771677952, 1.9325943460316792, 1.853762681692095, 1.8481411720766405, 1.606457653420979, 1.5489786208481875, 1.5489786208481875, 1.5489786208481875, 1.5489786208481875, 1.5489786208481875, 1.5489786208481875, 1.5489786208481875, 1.5489786208481875, 1.5489786208481875, 116.49135358072901], \"Category\": [\"Default\", \"Default\", \"Default\", \"Default\", \"Default\", \"Default\", \"Default\", \"Default\", \"Default\", \"Default\", \"Default\", \"Default\", \"Default\", \"Default\", \"Default\", \"Default\", \"Default\", \"Default\", \"Default\", \"Default\", \"Default\", \"Default\", \"Default\", \"Default\", \"Default\", \"Default\", \"Default\", \"Default\", \"Default\", \"Default\", \"Topic1\", \"Topic1\", \"Topic1\", \"Topic1\", \"Topic1\", \"Topic1\", \"Topic1\", \"Topic1\", \"Topic1\", \"Topic1\", \"Topic1\", \"Topic1\", \"Topic1\", \"Topic1\", \"Topic1\", \"Topic1\", \"Topic1\", \"Topic1\", \"Topic1\", \"Topic1\", \"Topic1\", \"Topic1\", \"Topic1\", \"Topic1\", \"Topic1\", \"Topic1\", \"Topic1\", \"Topic1\", \"Topic1\", \"Topic1\", \"Topic1\", \"Topic1\", \"Topic1\", \"Topic1\", \"Topic1\", \"Topic1\", \"Topic1\", \"Topic1\", \"Topic1\", \"Topic1\", \"Topic1\", \"Topic1\", \"Topic1\", \"Topic1\", \"Topic1\", \"Topic2\", \"Topic2\", \"Topic2\", \"Topic2\", \"Topic2\", \"Topic2\", \"Topic2\", \"Topic2\", \"Topic2\", \"Topic2\", \"Topic2\", \"Topic2\", \"Topic2\", \"Topic2\", \"Topic2\", \"Topic2\", \"Topic2\", \"Topic2\", \"Topic2\", \"Topic2\", \"Topic2\", \"Topic2\", \"Topic2\", \"Topic2\", \"Topic2\", \"Topic2\", \"Topic2\", \"Topic2\", \"Topic2\", \"Topic2\", \"Topic2\", \"Topic2\", \"Topic2\", \"Topic2\", \"Topic2\", \"Topic2\", \"Topic2\", \"Topic2\", \"Topic2\", \"Topic2\", \"Topic2\", \"Topic2\", \"Topic2\", \"Topic2\", \"Topic2\", \"Topic2\", \"Topic2\", \"Topic2\", \"Topic2\", \"Topic2\", \"Topic2\", \"Topic3\", \"Topic3\", \"Topic3\", \"Topic3\", \"Topic3\", \"Topic3\", \"Topic3\", \"Topic3\", \"Topic3\", \"Topic3\", \"Topic3\", \"Topic3\", \"Topic3\", \"Topic3\", \"Topic3\", \"Topic3\", \"Topic3\", \"Topic3\", \"Topic3\", \"Topic3\", \"Topic3\", \"Topic3\", \"Topic3\", \"Topic3\", \"Topic3\", \"Topic3\", \"Topic3\", \"Topic3\", \"Topic3\", \"Topic3\", \"Topic3\", \"Topic3\", \"Topic3\", \"Topic3\", \"Topic3\", \"Topic3\", \"Topic3\", \"Topic3\", \"Topic3\", \"Topic3\", \"Topic3\", \"Topic3\", \"Topic3\", \"Topic3\", \"Topic3\", \"Topic4\", \"Topic4\", \"Topic4\", \"Topic4\", \"Topic4\", \"Topic4\", \"Topic4\", \"Topic4\", \"Topic4\", \"Topic4\", \"Topic4\", \"Topic4\", \"Topic4\", \"Topic4\", \"Topic4\", \"Topic4\", \"Topic4\", \"Topic4\", \"Topic4\", \"Topic4\", \"Topic4\", \"Topic4\", \"Topic4\", \"Topic4\", \"Topic4\", \"Topic4\", \"Topic4\", \"Topic4\", \"Topic4\", \"Topic4\", \"Topic4\", \"Topic4\", \"Topic4\", \"Topic4\", \"Topic4\", \"Topic4\", \"Topic4\", \"Topic4\", \"Topic4\", \"Topic4\", \"Topic4\", \"Topic4\", \"Topic5\", \"Topic5\", \"Topic5\", \"Topic5\", \"Topic5\", \"Topic5\", \"Topic5\", \"Topic5\", \"Topic5\", \"Topic5\", \"Topic5\", \"Topic5\", \"Topic5\", \"Topic5\", \"Topic5\", \"Topic5\", \"Topic5\", \"Topic5\", \"Topic5\", \"Topic5\", \"Topic5\", \"Topic5\", \"Topic5\", \"Topic5\", \"Topic5\", \"Topic5\", \"Topic5\", \"Topic5\", \"Topic5\", \"Topic5\", \"Topic5\", \"Topic5\", \"Topic6\", \"Topic6\", \"Topic6\", \"Topic6\", \"Topic6\", \"Topic6\", \"Topic6\", \"Topic6\", \"Topic6\", \"Topic6\", \"Topic6\", \"Topic6\", \"Topic6\", \"Topic6\", \"Topic6\", \"Topic6\", \"Topic6\", \"Topic6\", \"Topic6\", \"Topic6\", \"Topic6\", \"Topic6\", \"Topic6\", \"Topic6\", \"Topic6\", \"Topic6\", \"Topic6\", \"Topic6\", \"Topic6\", \"Topic6\", \"Topic6\", \"Topic6\", \"Topic6\", \"Topic6\", \"Topic6\", \"Topic6\", \"Topic7\", \"Topic7\", \"Topic7\", \"Topic7\", \"Topic7\", \"Topic7\", \"Topic7\", \"Topic7\", \"Topic7\", \"Topic7\", \"Topic7\", \"Topic7\", \"Topic7\", \"Topic7\", \"Topic7\", \"Topic7\", \"Topic7\", \"Topic7\", \"Topic7\", \"Topic7\", \"Topic7\", \"Topic7\", \"Topic7\", \"Topic7\", \"Topic7\", \"Topic7\", \"Topic7\", \"Topic7\", \"Topic7\", \"Topic7\", \"Topic7\", \"Topic7\", \"Topic7\", \"Topic7\", \"Topic7\", \"Topic7\", \"Topic7\", \"Topic8\", \"Topic8\", \"Topic8\", \"Topic8\", \"Topic8\", \"Topic8\", \"Topic8\", \"Topic8\", \"Topic8\", \"Topic8\", \"Topic8\", \"Topic8\", \"Topic8\", \"Topic8\", \"Topic8\", \"Topic8\", \"Topic8\", \"Topic8\", \"Topic8\", \"Topic8\", \"Topic8\", \"Topic8\", \"Topic8\", \"Topic8\", \"Topic8\", \"Topic8\", \"Topic8\", \"Topic8\", \"Topic8\", \"Topic8\", \"Topic8\", \"Topic8\", \"Topic9\", \"Topic9\", \"Topic9\", \"Topic9\", \"Topic9\", \"Topic9\", \"Topic9\", \"Topic9\", \"Topic9\", \"Topic9\", \"Topic9\", \"Topic9\", \"Topic9\", \"Topic9\", \"Topic9\", \"Topic9\", \"Topic9\", \"Topic9\", \"Topic9\", \"Topic9\", \"Topic9\", \"Topic9\", \"Topic9\", \"Topic9\", \"Topic9\", \"Topic9\", \"Topic9\", \"Topic9\", \"Topic9\", \"Topic9\", \"Topic9\", \"Topic9\", \"Topic9\", \"Topic9\", \"Topic9\", \"Topic9\", \"Topic10\", \"Topic10\", \"Topic10\", \"Topic10\", \"Topic10\", \"Topic10\", \"Topic10\", \"Topic10\", \"Topic10\", \"Topic10\", \"Topic10\", \"Topic10\", \"Topic10\", \"Topic10\", \"Topic10\", \"Topic10\", \"Topic10\", \"Topic10\", \"Topic10\", \"Topic10\", \"Topic10\", \"Topic10\", \"Topic10\", \"Topic10\", \"Topic10\", \"Topic10\", \"Topic10\", \"Topic10\", \"Topic10\", \"Topic10\", \"Topic10\"], \"logprob\": [30.0, 29.0, 28.0, 27.0, 26.0, 25.0, 24.0, 23.0, 22.0, 21.0, 20.0, 19.0, 18.0, 17.0, 16.0, 15.0, 14.0, 13.0, 12.0, 11.0, 10.0, 9.0, 8.0, 7.0, 6.0, 5.0, 4.0, 3.0, 2.0, 1.0, -2.7638, -2.7904, -3.82, -3.8022, -3.3194, -4.4959, -4.6449, -4.7463, -4.7725, -4.8576, -4.8883, -4.9361, -5.0441, -5.1923, -5.2488, -5.2618, -5.3088, -5.324, -5.1662, -4.2679, -5.3883, -5.3935, -5.4941, -5.5265, -5.5323, -5.6306, -5.6627, -1.7007, -5.6596, -5.7777, -4.0259, -3.5186, -4.4112, -4.8689, -4.9393, -3.5191, -4.0091, -4.3266, -3.9072, -4.8612, -4.3058, -4.3322, -4.4038, -4.9548, -4.5945, -3.5251, -4.0548, -4.1205, -4.133, -4.3096, -4.4567, -4.6075, -4.8205, -4.886, -4.9904, -5.0455, -5.0297, -5.0957, -5.1435, -5.1585, -5.1885, -5.1927, -5.193, -5.2158, -5.238, -5.2466, -5.2487, -4.2495, -5.2777, -5.3436, -5.3588, -5.3846, -5.4076, -5.4456, -5.4653, -4.1479, -3.3367, -3.6338, -4.7189, -4.1972, -4.516, -3.657, -4.3531, -3.736, -4.2662, -4.3813, -3.9777, -4.3668, -4.4099, -4.5092, -4.5438, -4.9751, -4.9477, -4.9217, -4.8303, -4.9118, -3.4851, -3.9939, -4.152, -4.1965, -4.2399, -4.3047, -4.3425, -4.4325, -4.5866, -3.8866, -4.714, -4.8529, -4.8996, -4.905, -4.9326, -4.94, -4.9932, -5.008, -5.0163, -5.0221, -5.0221, -5.0838, -5.0873, -5.0926, -5.0929, -5.1187, -5.1335, -5.135, -5.1441, -5.1557, -3.8585, -3.9227, -4.1195, -4.2858, -4.5146, -4.6632, -4.3379, -3.0035, -4.562, -4.3872, -4.1821, -4.3945, -4.8659, -4.7335, -4.5694, -3.563, -3.8326, -3.8852, -3.9005, -3.92, -3.9253, -4.0231, -4.108, -4.1106, -4.1188, -4.1885, -4.3993, -4.4169, -4.505, -4.6921, -4.6996, -4.9363, -4.9815, -4.9983, -5.0746, -5.0923, -5.1142, -5.1193, -5.1327, -5.1495, -5.1578, -5.2322, -5.3187, -5.3309, -5.365, -2.777, -3.6827, -4.7015, -3.7349, -4.1422, -3.8941, -3.2698, -4.4184, -3.6739, -4.1882, -4.2152, -4.2594, -3.3725, -3.6533, -3.678, -3.796, -3.9457, -4.021, -4.0649, -4.1052, -4.1099, -4.1964, -4.166, -4.2653, -4.1153, -4.4624, -4.4691, -4.4944, -4.5106, -4.549, -4.6211, -4.6894, -4.7072, -4.7427, -4.756, -4.8433, -4.9234, -4.9658, -4.9681, -5.0445, -5.0537, -5.1085, -3.9264, -4.6055, -4.023, -4.0392, -4.2079, -4.3061, -4.3112, -4.3279, -4.4585, -4.4729, -4.4805, -4.5183, -4.5638, -4.5932, -4.6646, -4.7918, -4.8088, -4.8488, -4.8514, -4.8653, -4.9661, -4.9976, -5.0253, -5.0301, -5.0314, -5.0473, -5.0572, -5.1064, -5.1476, -5.1631, -5.2142, -5.2423, -4.5635, -3.6347, -4.5957, -5.0023, -4.5508, -4.8306, -3.0727, -3.4678, -3.5491, -3.776, -3.9356, -3.9994, -4.1012, -4.4628, -4.4666, -4.5073, -4.5073, -4.5125, -4.5883, -4.6544, -4.7339, -4.7661, -4.8737, -4.8985, -4.9271, -4.984, -4.9891, -5.0075, -5.0491, -5.0491, -5.0491, -5.0707, -5.0748, -5.0946, -3.5663, -5.2178, -3.3444, -4.2425, -4.6265, -4.592, -4.8732, -4.9251, -4.9394, -2.9475, -3.2097, -3.3318, -3.3486, -3.4889, -3.566, -3.5964, -3.885, -4.1095, -4.1276, -4.1925, -4.3203, -4.373, -4.4752, -4.4897, -4.5259, -4.5529, -4.5607, -4.6538, -4.6748, -4.6836, -4.6836, -4.9647, -4.9914, -5.0435, -5.1654, -5.2447, -5.2805, -5.2862, -5.3153, -4.0316, -5.1666, -3.1971, -3.5755, -3.6312, -3.7608, -4.0703, -4.1235, -4.184, -4.3148, -4.3593, -4.3653, -4.413, -4.4335, -4.5144, -4.5857, -4.6721, -4.6862, -4.7487, -4.7523, -4.7768, -4.8044, -4.8386, -4.8721, -4.9463, -5.0786, -5.1618, -5.2086, -5.229, -5.2639, -5.3954, -5.4112, -2.9244, -3.6369, -4.3252, -4.427, -4.9555, -5.0012, -2.8313, -3.0328, -3.1776, -3.4458, -4.0229, -4.268, -4.3485, -4.3742, -4.4502, -4.5194, -4.5843, -4.5853, -4.6029, -4.8088, -4.8228, -5.0111, -5.0112, -5.0987, -5.1658, -5.1712, -5.4109, -5.4839, -5.4839, -5.4839, -5.4839, -5.4839, -5.4839, -5.4839, -5.4839, -5.4839, -3.6347], \"loglift\": [30.0, 29.0, 28.0, 27.0, 26.0, 25.0, 24.0, 23.0, 22.0, 21.0, 20.0, 19.0, 18.0, 17.0, 16.0, 15.0, 14.0, 13.0, 12.0, 11.0, 10.0, 9.0, 8.0, 7.0, 6.0, 5.0, 4.0, 3.0, 2.0, 1.0, 1.1969, 1.1952, 1.1923, 1.192, 1.1915, 1.1857, 1.1835, 1.1818, 1.1813, 1.1798, 1.1792, 1.1782, 1.1758, 1.1721, 1.1705, 1.1702, 1.1688, 1.1683, 1.167, 1.1666, 1.1663, 1.1662, 1.1627, 1.1615, 1.1613, 1.1575, 1.1532, 1.1523, 1.1515, 1.151, 1.1301, 1.0461, 1.0813, 1.1085, 1.0862, 0.826, 0.869, 0.9275, 0.7267, 0.9896, 0.5854, 0.5122, 0.5112, 0.9029, 0.3519, 1.6356, 1.63, 1.6291, 1.6285, 1.6261, 1.6233, 1.6201, 1.6145, 1.6117, 1.6092, 1.6073, 1.6071, 1.6054, 1.6036, 1.603, 1.6018, 1.6016, 1.6016, 1.6006, 1.5997, 1.5993, 1.5992, 1.5992, 1.5973, 1.5949, 1.594, 1.5929, 1.5918, 1.5898, 1.5888, 1.5482, 1.4516, 1.4546, 1.5206, 1.3455, 1.3966, 1.1609, 1.2732, 0.576, 0.9379, 1.0156, 0.6562, 0.5481, 0.5365, 0.382, 0.3343, 1.2341, 1.1311, 0.8185, -0.008, -0.5667, 1.7258, 1.7202, 1.7178, 1.717, 1.7163, 1.7151, 1.7143, 1.7125, 1.7089, 1.7073, 1.7054, 1.7012, 1.6996, 1.6994, 1.6985, 1.6982, 1.6963, 1.6957, 1.6954, 1.6952, 1.6951, 1.6927, 1.6926, 1.6924, 1.6921, 1.6913, 1.6907, 1.6906, 1.6902, 1.6897, 1.68, 1.6681, 1.6051, 1.6104, 1.6019, 1.6229, 1.5687, 1.3086, 1.5386, 1.1804, 0.6357, 0.8095, 1.4197, 1.0068, -1.7164, 2.2682, 2.2632, 2.2621, 2.2618, 2.2613, 2.2612, 2.2589, 2.2566, 2.2566, 2.2563, 2.2544, 2.2475, 2.2468, 2.2434, 2.2352, 2.2349, 2.2221, 2.2193, 2.2182, 2.2132, 2.2119, 2.2104, 2.2101, 2.2091, 2.2079, 2.2072, 2.2015, 2.1944, 2.1933, 2.1903, 2.0452, 2.0328, 2.1319, 1.9511, 1.9917, 1.8564, 1.5746, 1.5513, 0.6712, 1.2087, 0.7312, 0.3053, 2.7094, 2.7027, 2.7019, 2.6986, 2.6935, 2.6907, 2.689, 2.6873, 2.6871, 2.6833, 2.683, 2.68, 2.677, 2.6694, 2.669, 2.6675, 2.6665, 2.664, 2.6593, 2.6544, 2.6531, 2.6504, 2.6494, 2.6424, 2.6354, 2.6315, 2.6312, 2.6238, 2.6229, 2.6171, 0.9648, 1.11, 2.8734, 2.8726, 2.864, 2.8583, 2.8581, 2.857, 2.8485, 2.8475, 2.8469, 2.8442, 2.8408, 2.8385, 2.8326, 2.8212, 2.8196, 2.8156, 2.8155, 2.8141, 2.8034, 2.7998, 2.7967, 2.7962, 2.796, 2.7942, 2.793, 2.7869, 2.7816, 2.7796, 2.7728, 2.7689, 2.5609, 2.2526, 2.5127, 2.2944, 0.6532, 1.1391, 3.2846, 3.2712, 3.2677, 3.2565, 3.2471, 3.2429, 3.2357, 3.2039, 3.2035, 3.1992, 3.1992, 3.1987, 3.1902, 3.1823, 3.1722, 3.168, 3.1528, 3.1491, 3.1447, 3.1356, 3.1349, 3.1318, 3.1247, 3.1247, 3.1247, 3.1211, 3.1204, 3.1169, 3.1128, 3.0938, 2.6397, 1.9668, 2.446, 2.1976, 1.023, 0.7709, 0.7852, 3.4565, 3.4477, 3.4429, 3.4421, 3.4357, 3.4317, 3.4301, 3.412, 3.3942, 3.3925, 3.3867, 3.3738, 3.3681, 3.3562, 3.3544, 3.3498, 3.3464, 3.3454, 3.3327, 3.3296, 3.3284, 3.3284, 3.282, 3.2771, 3.267, 3.2419, 3.2241, 3.2157, 3.2144, 3.2073, 2.9835, 2.2961, 3.5671, 3.5479, 3.5444, 3.5356, 3.5097, 3.5047, 3.4985, 3.4838, 3.4784, 3.4777, 3.4716, 3.469, 3.458, 3.4476, 3.4342, 3.4315, 3.4212, 3.4208, 3.4164, 3.4116, 3.4053, 3.3989, 3.3845, 3.3562, 3.3371, 3.3256, 3.3206, 3.3116, 3.2759, 3.2714, 3.1747, 3.1527, 3.112, 2.414, 2.6435, 2.4776, 4.2233, 4.2105, 4.1996, 4.1755, 4.0991, 4.0534, 4.0364, 4.0308, 4.0135, 3.9962, 3.98, 3.9798, 3.9749, 3.9164, 3.9122, 3.85, 3.85, 3.8181, 3.7927, 3.7903, 3.6908, 3.6542, 3.6542, 3.6542, 3.6542, 3.6542, 3.6542, 3.6542, 3.6542, 3.6542, 1.1831]}, \"token.table\": {\"Topic\": [9, 5, 6, 7, 9, 4, 8, 6, 10, 1, 7, 8, 9, 8, 6, 4, 9, 3, 4, 3, 4, 6, 1, 4, 10, 8, 1, 2, 4, 6, 2, 1, 7, 7, 10, 5, 6, 6, 3, 2, 4, 6, 1, 3, 7, 5, 2, 5, 1, 2, 4, 10, 4, 4, 7, 4, 7, 10, 10, 6, 9, 4, 4, 2, 3, 5, 4, 10, 7, 7, 2, 6, 4, 1, 1, 2, 3, 4, 5, 2, 3, 8, 6, 10, 4, 9, 9, 1, 3, 9, 9, 2, 8, 4, 2, 4, 5, 10, 4, 2, 7, 5, 3, 4, 9, 2, 4, 6, 2, 5, 2, 3, 6, 6, 2, 5, 7, 7, 9, 10, 10, 10, 3, 4, 5, 6, 5, 4, 5, 1, 2, 8, 5, 8, 2, 3, 1, 3, 8, 5, 1, 3, 9, 5, 7, 5, 10, 8, 9, 7, 9, 1, 2, 9, 1, 6, 2, 2, 10, 6, 7, 9, 10, 9, 8, 1, 3, 3, 8, 1, 2, 3, 2, 3, 4, 4, 8, 10, 3, 2, 3, 5, 2, 3, 5, 4, 9, 1, 1, 1, 4, 1, 2, 1, 5, 10, 8, 1, 8, 7, 1, 2, 3, 5, 3, 3, 8, 10, 2, 7, 8, 2, 6, 7, 10, 9, 6, 5, 6, 8, 1, 2, 2, 7, 7, 2, 5, 7, 9, 2, 10, 3, 4, 6, 1, 3, 1, 6, 1, 7, 3, 4, 1, 3, 3, 4, 2, 9, 4, 5, 6, 1, 2, 1, 2, 3, 5, 2, 9, 4, 8, 9, 2, 9, 2, 3, 6, 1, 4, 1, 2, 10, 2, 3, 4, 1, 1, 3, 10, 2, 7, 5, 4, 7, 9, 5, 6, 3, 3, 5, 7, 8, 4, 3, 5, 7, 3, 8, 2, 9, 6, 10, 7, 9, 9, 7, 1, 3, 6, 4, 9, 5, 1, 1, 4, 2, 1, 5, 8, 7, 5, 1, 3, 3, 5, 7, 5, 3, 1, 9, 8, 5, 1, 6, 5, 6, 8, 4, 8, 3, 7, 3, 4, 7, 4, 7, 2, 7, 1, 2, 10, 5, 3, 4, 1, 3, 3, 5, 8, 3, 8, 6, 10, 6, 2, 3, 10, 9, 7, 3, 10, 7, 1, 8, 1, 2, 1, 1, 2, 4, 7, 9, 2, 6, 10, 2, 3, 6, 6, 9, 5, 6, 3, 2, 2, 1, 5, 3, 3, 10, 6, 10, 4, 1, 2, 5, 2, 3, 4, 9, 6, 7, 1, 3, 3, 3, 3, 4, 6, 9, 3, 1, 4, 8, 2, 2, 4, 1, 2, 3, 5, 1, 6, 1, 2, 3, 5, 5, 6, 9, 2, 8, 2, 9, 8, 1, 4, 8, 2, 10], \"Freq\": [0.9470045012821418, 0.9592434817755381, 0.8826739666113868, 0.3083069633243174, 0.6166139266486348, 0.9621710408987446, 0.9720010166622904, 0.8367720099249494, 0.8498620042319631, 0.4684545077904479, 0.5235668028246182, 0.6824821567232996, 0.9308468102622608, 0.9377786033768754, 0.8758700943467079, 0.6142300861520698, 0.3685380516912419, 0.969887241551018, 0.01865167772213496, 0.325927262744122, 0.488890894116183, 0.162963631372061, 0.9905078101890217, 0.9266017986467417, 0.622487619185282, 0.9218336725910298, 0.12254093883801015, 0.5361166074162944, 0.3369875818045279, 0.9754906508903377, 0.9714026907323191, 0.9523281250715163, 0.9255648365605794, 0.8496835706680824, 0.9119918028709303, 0.9020586919664086, 0.9605381420884977, 0.8559745390047282, 0.9540304871042492, 0.2240426409171104, 0.7361401058705056, 0.8895472586613679, 0.9478854394738675, 0.9820872132803921, 0.8677647815534666, 0.8657743759840875, 0.8893419039289232, 0.10672102847147079, 0.24231716045531562, 0.6057929011382891, 0.12115858022765781, 0.657806011366244, 0.9590472349827965, 0.9650462582456172, 0.9416098794529495, 0.9733293943733166, 0.7543714735909849, 0.6455867024506906, 0.930494646555266, 0.5540776524508454, 0.415558239338134, 0.9284259650440899, 0.9878675719714531, 0.7695965058769431, 0.15391930117538863, 0.05130643372512954, 0.8770566319157034, 0.6455867024506906, 0.7746767309585205, 0.8475491166830068, 0.25443592643506996, 0.6784958038268533, 0.8998629602085704, 0.9495866340109292, 0.4295053439978195, 0.33189049308922414, 0.009761485090859534, 0.21475267199890974, 0.019522970181719067, 0.9639957780333871, 0.9439845832161932, 0.9325918928503399, 0.8446477283528415, 0.6455867024506906, 0.9931996410236924, 0.921660518239599, 0.7529189345146429, 0.06291638742594725, 0.8808294239632615, 0.06291638742594725, 0.8557870424933983, 0.9805312836986049, 0.9415887929471449, 0.9640415633118129, 0.9126172368026747, 0.9449790674047542, 0.9132092672845087, 0.9706034348413405, 0.952069895412788, 0.987261176734809, 0.9298711858405403, 0.9680010973975625, 0.7450494204129259, 0.26076729714452407, 0.9212309560577278, 0.9594710559611306, 0.9675593725840615, 0.8428443132294196, 0.9925587143711639, 0.9824784076902128, 0.9805274098601641, 0.961953814373199, 0.8703206319802321, 0.8970149399744097, 0.6557733597017888, 0.06902877470545145, 0.2761150988218058, 0.8288341761359828, 0.7355677895419866, 0.48940483680142693, 0.8628067839168175, 0.7280257529708694, 0.9744329070215082, 0.9808079134235655, 0.25854852634219094, 0.6894627369125091, 0.9519420403085741, 0.8898757126194977, 0.9274280353044747, 0.8903442224933656, 0.08616234411226119, 0.9644541436098393, 0.9640504527520493, 0.8163564069358901, 0.8326119732348156, 0.1687726972773275, 0.9904018905858649, 0.978118355244953, 0.6795636024484786, 0.9318102937585734, 0.9766388257425932, 0.9770793444569361, 0.8839733474543554, 0.16563220924171715, 0.8281610462085858, 0.9549579414878905, 0.6455867024506906, 0.987736145011273, 0.9514744534687566, 0.9593596757917938, 0.7356130633154742, 0.7568542694827447, 0.22572846633695895, 0.8096235682281642, 0.9918260710438922, 0.950205877500983, 0.9841949111221073, 0.9516322384163074, 0.6455867024506906, 0.9374792855888312, 0.3535271338319358, 0.5892118897198929, 0.5174391625709578, 0.903559353646512, 0.8311502904042272, 0.9914791183002469, 0.006315153619746796, 0.6043893954038639, 0.3626336372423184, 0.9542059571029893, 0.013236148206977152, 0.031285441216491454, 0.18968947218630877, 0.017244497471482614, 0.784624634952459, 0.38629328746042446, 0.6180692599366792, 0.7274699109151249, 0.9794302371001073, 0.34164758913970744, 0.6522363065394415, 0.9724066059854224, 0.7443035392460324, 0.23037966690948625, 0.0354430256783825, 0.9783576565620861, 0.8188532178469106, 0.9980811288775405, 0.9750117876834491, 0.50246557473299, 0.4936503892113586, 0.9032977555502402, 0.08211797777729456, 0.9673757060523329, 0.9314406354113731, 0.7373648037431204, 0.8374803427899248, 0.9793874065181791, 0.8738672303652137, 0.7383564950526165, 0.9891452170097508, 0.9785123994470807, 0.9671946786061785, 0.9814790325149239, 0.9738389746284352, 0.9696539409075043, 0.9580706100985174, 0.9644669678575248, 0.9918034893374825, 0.9325748127111348, 0.6612217999040784, 0.946111832019535, 0.8693433260650046, 0.7383651221747386, 0.9348425220643575, 0.8137670349094422, 0.9435954851989293, 0.9697516238212297, 0.8873574586666083, 0.9134417430216248, 0.6213500580187163, 0.3713816438732558, 0.9807888633424537, 0.9255696598141997, 0.7667729595651981, 0.9670628753166504, 0.9446997529814996, 0.969695305781384, 0.84564112688895, 0.9705506577860327, 0.6455867024506906, 0.8358716303871171, 0.09287462559856857, 0.09287462559856857, 0.9469490086919714, 0.9919770687408365, 0.9719290387288125, 0.9124253601340354, 0.49093803021138466, 0.4091150251761539, 0.9588338315499264, 0.9859420047854413, 0.8199045476480574, 0.168803877456953, 0.06442321004785012, 0.8375017306220516, 0.9679507662211392, 0.804897770210945, 0.7793969740902796, 0.18958304775168966, 0.021064783083521072, 0.9932096756683354, 0.9293329821854887, 0.7202827440558819, 0.2735250926794488, 0.00911750308931496, 0.9550601627357158, 0.95927349422815, 0.9202529689739422, 0.9732236708053957, 0.8850333337645497, 0.8639035879337785, 0.9295761627967429, 0.907120287234447, 0.4925958280559009, 0.391550529993152, 0.10104529806274891, 0.9900393508598736, 0.9394497875618801, 0.893248688056091, 0.10112249298748201, 0.541084206720184, 0.23996486029191427, 0.10907493649632467, 0.6544496189779481, 0.988349049759435, 0.9619722480847634, 0.9709311607870308, 0.6455867024506906, 0.9089698767283643, 0.08263362515712402, 0.9366748320896111, 0.9777325086603856, 0.7517902894560979, 0.7168007156646237, 0.9433545378358272, 0.8167460753982315, 0.9471837136146163, 0.8715071124300371, 0.02125627103487895, 0.0850250841395158, 0.8465626349777371, 0.9132900926752731, 0.9757444710483428, 0.8908292817749927, 0.937942309997014, 0.9735481700202352, 0.9506245924787854, 0.9673482670852607, 0.9381959052653359, 0.7814524140859992, 0.6455867024506906, 0.9504822770045911, 0.961872946991869, 0.6813383662171115, 0.9135764943163542, 0.9971881934077899, 0.9830864345516427, 0.9813124740007667, 0.9700412707882752, 0.7059103041580334, 0.9417223978805965, 0.9766915748520999, 0.9850505504585447, 0.9467760279661716, 0.9526579058816277, 0.9729592756426005, 0.9084533266409199, 0.6977294783033555, 0.9511697044420437, 0.9065875356630315, 0.939020136720246, 0.06019359850770808, 0.952959089665993, 0.03529478109874048, 0.7383651221747386, 0.9610777764096654, 0.975101585998875, 0.6492098493996897, 0.32460492469984487, 0.9174261973884567, 0.9659557938598502, 0.4752516999018973, 0.500264947265155, 0.4095782219203092, 0.5119727774003865, 0.881564692893951, 0.9791680253526998, 0.9111600282965793, 0.8832767389185614, 0.10094591301926416, 0.929719223834199, 0.037188768953367965, 0.9604433952596996, 0.9475662171724019, 0.8893673847346587, 0.9501446580973778, 0.93666637336652, 0.1666988416358289, 0.8251592660973531, 0.8544419043895283, 0.8729323996101072, 0.9821335612881711, 0.930234284240214, 0.41783357876749516, 0.5813336748069499, 0.9914345985422666, 0.8947786337696415, 0.9352515329270519, 0.9575015403964775, 0.8374803427899248, 0.9296780651552932, 0.6455867024506906, 0.9007181207159004, 0.6180716232308494, 0.33478879591671007, 0.04292164050214232, 0.7920301104678614, 0.8785475295514514, 0.9708847974489012, 0.6928795196917641, 0.9434684242385009, 0.9450350448197792, 0.7942505288248091, 0.28902064925574605, 0.6936495582137906, 0.9212813343312115, 0.6902171226998073, 0.10701040662012516, 0.19796925224723155, 0.8924134656751415, 0.8793694346558234, 0.9402687446507076, 0.91557139393017, 0.8558591528667939, 0.9625863879891218, 0.024064659699728045, 0.890365554343673, 0.9310368533550768, 0.7378386480195522, 0.9699952818102183, 0.9014093722794821, 0.9750454900613543, 0.9705840595709145, 0.9436722315176457, 0.9880950875992159, 0.9276210781567003, 0.9779362499192183, 0.9886491714506478, 0.5394433763696281, 0.8656868994691382, 0.48942361162586573, 0.9282972129768082, 0.5450008406286434, 0.2863563738896262, 0.17550874528719027, 0.12749061596359654, 0.8414380653597371, 0.978624730319301, 0.6391001755419882, 0.9636913315196406, 0.8891309808667801, 0.7527913142417811, 0.24283590781992942, 0.968521814468096, 0.9483544166339289, 0.8944255531141199, 0.07453546275951, 0.8747900659778534, 0.8554705866123755, 0.9779974924948823, 0.859637341920909, 0.1399409626382875, 0.9141144943639318, 0.9455352116677729, 0.26589063413041397, 0.7158593995818838, 0.9773219999014504, 0.4318569917407651, 0.47504269091484164, 0.06477854876111476, 0.9701842668668259, 0.015904660112570915, 0.5013637510995076, 0.3310892695940144, 0.15135509467154945, 0.00945969341697184, 0.8981716757129257, 0.8214099440443784, 0.770202523188298, 0.9688227194186961, 0.8961921429298692, 0.3400502698715508, 0.6491868788456879, 0.811722534184258, 0.9799284045850383, 0.9200090523949772, 0.9725537894463074, 0.9303173736573109, 0.8877857553322015], \"Term\": [\"ability\", \"absolutely\", \"account\", \"act\", \"act\", \"acting\", \"action\", \"addicting\", \"addictive\", \"again\", \"again\", \"age\", \"alike\", \"all\", \"allow\", \"almost\", \"almost\", \"also\", \"also\", \"always\", \"always\", \"always\", \"amazing\", \"amount\", \"aphrodite\", \"around\", \"art\", \"art\", \"art\", \"artwork\", \"as\", \"aspect\", \"ass\", \"at\", \"atmosphere\", \"attack\", \"attempt\", \"audio\", \"awesome\", \"back\", \"back\", \"background\", \"bad\", \"base\", \"basically\", \"battle\", \"beat\", \"beat\", \"beautiful\", \"beautiful\", \"beautiful\", \"bisexual\", \"bit\", \"boon\", \"bored\", \"boss\", \"bother\", \"box\", \"boy\", \"break\", \"break\", \"brilliant\", \"build\", \"buy\", \"buy\", \"buy\", \"call\", \"capable\", \"cell\", \"center\", \"certain\", \"certain\", \"challenging\", \"change\", \"character\", \"character\", \"character\", \"character\", \"character\", \"choice\", \"choose\", \"class\", \"close\", \"cold\", \"combat\", \"combine\", \"combo\", \"come\", \"come\", \"come\", \"compelling\", \"complete\", \"completely\", \"content\", \"continue\", \"control\", \"controller\", \"cool\", \"date\", \"day\", \"dead\", \"death\", \"definitely\", \"definitely\", \"depth\", \"deserve\", \"design\", \"devs\", \"dialogue\", \"die\", \"different\", \"difficulty\", \"direction\", \"discover\", \"do\", \"do\", \"do\", \"dog\", \"draw\", \"dude\", \"dusa\", \"dynamic\", \"easy\", \"element\", \"encounter\", \"encounter\", \"end\", \"endless\", \"enemy\", \"enjoy\", \"enjoy\", \"enough\", \"escape\", \"especially\", \"even\", \"even\", \"ever\", \"excellent\", \"exceptionally\", \"expect\", \"experience\", \"extremely\", \"family\", \"fantastic\", \"fantastic\", \"far\", \"fashioned\", \"fast\", \"father\", \"favorite\", \"favour\", \"feel\", \"feel\", \"fenomenal\", \"few\", \"finally\", \"find\", \"finish\", \"format\", \"forward\", \"friend\", \"friend\", \"frustrating\", \"fuck\", \"full\", \"fun\", \"fun\", \"funny\", \"funny\", \"game\", \"game\", \"game\", \"gameplay\", \"gameplay\", \"gameplay\", \"gaming\", \"gaming\", \"gem\", \"genre\", \"get\", \"get\", \"give\", \"go\", \"go\", \"go\", \"god\", \"godly\", \"good\", \"graphic\", \"great\", \"great\", \"greek\", \"greek\", \"grind\", \"grindy\", \"gripe\", \"hack\", \"hade\", \"hand\", \"happen\", \"hard\", \"hear\", \"help\", \"here\", \"high\", \"highly\", \"hit\", \"hot\", \"hour\", \"idea\", \"impactful\", \"impressive\", \"include\", \"infernal\", \"insanely\", \"intense\", \"interaction\", \"interesting\", \"invest\", \"issue\", \"just\", \"just\", \"keep\", \"kick\", \"kiss\", \"know\", \"learn\", \"least\", \"leave\", \"let\", \"letter\", \"level\", \"level\", \"level\", \"life\", \"like\", \"line\", \"listen\", \"lite\", \"lite\", \"little\", \"long\", \"look\", \"look\", \"loop\", \"loop\", \"lore\", \"lose\", \"lot\", \"lot\", \"lot\", \"love\", \"main\", \"make\", \"make\", \"make\", \"masterpiece\", \"maybe\", \"mean\", \"mechanic\", \"mention\", \"minute\", \"miss\", \"money\", \"more\", \"more\", \"more\", \"most\", \"move\", \"much\", \"much\", \"murder\", \"music\", \"music\", \"music\", \"mythology\", \"need\", \"never\", \"nevertheless\", \"new\", \"new\", \"next\", \"nice\", \"note\", \"nuance\", \"old\", \"on\", \"one\", \"only\", \"only\", \"only\", \"opinion\", \"option\", \"other\", \"out\", \"over\", \"own\", \"pace\", \"part\", \"past\", \"pay\", \"peace\", \"people\", \"perfect\", \"personal\", \"pet\", \"play\", \"player\", \"plot\", \"point\", \"polish\", \"polished\", \"pretty\", \"price\", \"progress\", \"progression\", \"put\", \"random\", \"rate\", \"re\", \"reach\", \"really\", \"really\", \"recommend\", \"recommend\", \"region\", \"repeat\", \"repetitive\", \"replay\", \"replay\", \"replayability\", \"return\", \"review\", \"review\", \"reward\", \"reward\", \"rewarding\", \"rich\", \"right\", \"rogue\", \"rogue\", \"roguelike\", \"roguelike\", \"roguelite\", \"room\", \"rouge\", \"rougelike\", \"rougelite\", \"run\", \"run\", \"sadly\", \"sale\", \"same\", \"satisfy\", \"say\", \"say\", \"see\", \"seem\", \"several\", \"skill\", \"slash\", \"slowly\", \"smart\", \"smooth\", \"so\", \"so\", \"so\", \"sorry\", \"sort\", \"soundtrack\", \"spoil\", \"start\", \"steam\", \"stellar\", \"still\", \"still\", \"stop\", \"story\", \"story\", \"story\", \"storyline\", \"storytelling\", \"strong\", \"stuff\", \"stunning\", \"style\", \"style\", \"successfully\", \"such\", \"supergiant\", \"surprise\", \"switch\", \"system\", \"take\", \"talk\", \"then\", \"there\", \"thing\", \"think\", \"thirsty\", \"though\", \"thumb\", \"tight\", \"time\", \"time\", \"time\", \"too\", \"too\", \"top\", \"touching\", \"treat\", \"true\", \"try\", \"try\", \"type\", \"underworld\", \"upgrade\", \"upgrade\", \"usually\", \"value\", \"various\", \"very\", \"very\", \"video\", \"visual\", \"voice\", \"voice\", \"want\", \"way\", \"way\", \"way\", \"weapon\", \"weapon\", \"well\", \"well\", \"well\", \"well\", \"win\", \"wise\", \"wonderfully\", \"work\", \"world\", \"worth\", \"worth\", \"worthy\", \"write\", \"writing\", \"year\", \"yet\", \"zagreus\"]}, \"R\": 30, \"lambda.step\": 0.01, \"plot.opts\": {\"xlab\": \"PC1\", \"ylab\": \"PC2\"}, \"topic.order\": [4, 8, 9, 1, 6, 7, 2, 10, 3, 5]};\n",
       "\n",
       "function LDAvis_load_lib(url, callback){\n",
       "  var s = document.createElement('script');\n",
       "  s.src = url;\n",
       "  s.async = true;\n",
       "  s.onreadystatechange = s.onload = callback;\n",
       "  s.onerror = function(){console.warn(\"failed to load library \" + url);};\n",
       "  document.getElementsByTagName(\"head\")[0].appendChild(s);\n",
       "}\n",
       "\n",
       "if(typeof(LDAvis) !== \"undefined\"){\n",
       "   // already loaded: just create the visualization\n",
       "   !function(LDAvis){\n",
       "       new LDAvis(\"#\" + \"ldavis_el883222061419908327043782795\", ldavis_el883222061419908327043782795_data);\n",
       "   }(LDAvis);\n",
       "}else if(typeof define === \"function\" && define.amd){\n",
       "   // require.js is available: use it to load d3/LDAvis\n",
       "   require.config({paths: {d3: \"https://d3js.org/d3.v5\"}});\n",
       "   require([\"d3\"], function(d3){\n",
       "      window.d3 = d3;\n",
       "      LDAvis_load_lib(\"https://cdn.jsdelivr.net/gh/bmabey/pyLDAvis@3.3.1/pyLDAvis/js/ldavis.v3.0.0.js\", function(){\n",
       "        new LDAvis(\"#\" + \"ldavis_el883222061419908327043782795\", ldavis_el883222061419908327043782795_data);\n",
       "      });\n",
       "    });\n",
       "}else{\n",
       "    // require.js not available: dynamically load d3 & LDAvis\n",
       "    LDAvis_load_lib(\"https://d3js.org/d3.v5.js\", function(){\n",
       "         LDAvis_load_lib(\"https://cdn.jsdelivr.net/gh/bmabey/pyLDAvis@3.3.1/pyLDAvis/js/ldavis.v3.0.0.js\", function(){\n",
       "                 new LDAvis(\"#\" + \"ldavis_el883222061419908327043782795\", ldavis_el883222061419908327043782795_data);\n",
       "            })\n",
       "         });\n",
       "}\n",
       "</script>"
      ],
      "text/plain": [
       "PreparedData(topic_coordinates=              x         y  topics  cluster       Freq\n",
       "topic                                                \n",
       "3      0.404512  0.175468       1        1  30.140804\n",
       "7      0.114370  0.329100       2        1  19.325715\n",
       "8     -0.386811  0.061631       3        1  17.650666\n",
       "0     -0.170142  0.322832       4        1  10.184802\n",
       "5      0.168543 -0.326480       5        1   6.519835\n",
       "6     -0.088195  0.052033       6        1   5.389792\n",
       "1     -0.083817 -0.295952       7        1   3.641255\n",
       "9     -0.222382 -0.171644       8        1   3.061886\n",
       "2      0.170560 -0.140557       9        1   2.704698\n",
       "4      0.093364 -0.006432      10        1   1.380547, topic_info=              Term        Freq       Total Category  logprob  loglift\n",
       "11            game  831.000000  831.000000  Default  30.0000  30.0000\n",
       "4             good  274.000000  274.000000  Default  29.0000  29.0000\n",
       "94            play  267.000000  267.000000  Default  28.0000  28.0000\n",
       "12        gameplay  115.000000  115.000000  Default  27.0000  27.0000\n",
       "33             get  193.000000  193.000000  Default  26.0000  26.0000\n",
       "...            ...         ...         ...      ...      ...      ...\n",
       "2191        letter    0.826206    1.548979  Topic10  -5.4839   3.6542\n",
       "2192  nevertheless    0.826206    1.548979  Topic10  -5.4839   3.6542\n",
       "2193         peace    0.826206    1.548979  Topic10  -5.4839   3.6542\n",
       "2195         smart    0.826206    1.548979  Topic10  -5.4839   3.6542\n",
       "102             so    5.250225  116.491354  Topic10  -3.6347   1.1831\n",
       "\n",
       "[417 rows x 6 columns], token_table=      Topic      Freq        Term\n",
       "term                             \n",
       "461       9  0.947005     ability\n",
       "306       5  0.959243  absolutely\n",
       "885       6  0.882674     account\n",
       "139       7  0.308307         act\n",
       "139       9  0.616614         act\n",
       "...     ...       ...         ...\n",
       "213       1  0.979928       write\n",
       "159       4  0.920009     writing\n",
       "117       8  0.972554        year\n",
       "172       2  0.930317         yet\n",
       "299      10  0.887786     zagreus\n",
       "\n",
       "[450 rows x 3 columns], R=30, lambda_step=0.01, plot_opts={'xlab': 'PC1', 'ylab': 'PC2'}, topic_order=[4, 8, 9, 1, 6, 7, 2, 10, 3, 5])"
      ]
     },
     "execution_count": 34,
     "metadata": {},
     "output_type": "execute_result"
    }
   ],
   "source": [
    "pyLDAvis.enable_notebook()\n",
    "vis = pyLDAvis.gensim_models.prepare(lda_model, corpus, id2word, mds=\"mmds\", R=30)\n",
    "vis"
   ]
  },
  {
   "cell_type": "code",
   "execution_count": null,
   "metadata": {},
   "outputs": [],
   "source": []
  }
 ],
 "metadata": {
  "interpreter": {
   "hash": "49cb93f377a7abe7414b7b0f21fb3017538004a126cf690fb524202736b7fb92"
  },
  "kernelspec": {
   "display_name": "Python 3.8.8",
   "language": "python",
   "name": "python3"
  },
  "language_info": {
   "codemirror_mode": {
    "name": "ipython",
    "version": 3
   },
   "file_extension": ".py",
   "mimetype": "text/x-python",
   "name": "python",
   "nbconvert_exporter": "python",
   "pygments_lexer": "ipython3",
   "version": "3.8.8"
  },
  "orig_nbformat": 4
 },
 "nbformat": 4,
 "nbformat_minor": 2
}
