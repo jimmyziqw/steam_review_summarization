{
 "cells": [
  {
   "cell_type": "code",
   "execution_count": 1,
   "metadata": {},
   "outputs": [
    {
     "name": "stdout",
     "output_type": "stream",
     "text": [
      "['c:\\\\Users\\\\jimmy\\\\My Drive\\\\PYTHON_PROJECTS\\\\game_review_autoreporter\\\\simp_clone', 'd:\\\\anaconda3\\\\python38.zip', 'd:\\\\anaconda3\\\\DLLs', 'd:\\\\anaconda3\\\\lib', 'd:\\\\anaconda3', '', 'd:\\\\anaconda3\\\\lib\\\\site-packages', 'd:\\\\anaconda3\\\\lib\\\\site-packages\\\\locket-0.2.1-py3.8.egg', 'd:\\\\anaconda3\\\\lib\\\\site-packages\\\\win32', 'd:\\\\anaconda3\\\\lib\\\\site-packages\\\\win32\\\\lib', 'd:\\\\anaconda3\\\\lib\\\\site-packages\\\\Pythonwin', 'd:\\\\anaconda3\\\\lib\\\\site-packages\\\\IPython\\\\extensions', 'C:\\\\Users\\\\jimmy\\\\.ipython']\n",
      "ok-----------\n",
      "3.8.8 (default, Apr 13 2021, 15:08:03) [MSC v.1916 64 bit (AMD64)]\n",
      "ok-----------\n"
     ]
    }
   ],
   "source": [
    "import sys\n",
    "print(sys.path)\n",
    "import pandas as pd\n",
    "\n",
    "import pickle\n",
    "import matplotlib.pyplot as plt\n",
    "from models import *\n",
    "from utils import *\n",
    "import warnings\n",
    "warnings.filterwarnings('ignore', category=Warning)\n",
    "\n",
    "import argparse\n",
    "\n"
   ]
  },
  {
   "cell_type": "code",
   "execution_count": 6,
   "metadata": {},
   "outputs": [
    {
     "name": "stderr",
     "output_type": "stream",
     "text": [
      "usage: ipykernel_launcher.py [-h] [--fpath FPATH] [--ntopic NTOPIC]\n",
      "                             [--method METHOD] [--samp_size SAMP_SIZE]\n",
      "ipykernel_launcher.py: error: unrecognized arguments: --ip=127.0.0.1 --stdin=9019 --control=9017 --hb=9016 --Session.signature_scheme=\"hmac-sha256\" --Session.key=b\"8c58bd9e-e918-4cd2-9a4a-37e89487eacb\" --shell=9018 --transport=\"tcp\" --iopub=9020\n"
     ]
    },
    {
     "ename": "SystemExit",
     "evalue": "2",
     "output_type": "error",
     "traceback": [
      "An exception has occurred, use %tb to see the full traceback.\n",
      "\u001b[1;31mSystemExit\u001b[0m\u001b[1;31m:\u001b[0m 2\n"
     ]
    }
   ],
   "source": [
    "if __name__ == '__main__':\n",
    "\n",
    "    parser = argparse.ArgumentParser()\n",
    "    parser.add_argument('--fpath', default='C:/Users/jimmy/My Drive/PYTHON_PROJECTS/game_review_autoreporter/dataset/1145360_steam_reviews.csv')\n",
    "    parser.add_argument('--ntopic', default=10)\n",
    "    parser.add_argument('--method', default='LDA')\n",
    "    parser.add_argument('--samp_size', default=1000)\n",
    "    args = parser.parse_args()\n",
    "\n",
    "    data = pd.read_csv(str(args.fpath))\n",
    "    data = data.fillna('')  # only the comments has NaN's\n",
    "    rws = data['review_text']\n",
    "    sentences, token_lists, idx_in = preprocess(rws, samp_size=int(args.samp_size))\n",
    "    # Define the topic model object\n",
    "    tm = Topic_Model(k = int(args.ntopic), method = str(args.method))\n",
    "    # Fit the topic model by chosen method\n",
    "    tm.fit(sentences, token_lists)\n",
    "    # Evaluate using metrics\n",
    "    print('loaded')\n",
    "    with open(\"F:/Steam Reviews/docs/saved_models/{}.file\".format(tm.id), \"wb\") as f:\n",
    "        pickle.dump(tm, f, pickle.HIGHEST_PROTOCOL)\n",
    "\n",
    "    print('Coherence:', get_coherence(tm, token_lists, 'c_v'))\n",
    "    print('Silhouette Score:', get_silhouette(tm))\n",
    "    # visualize and save img\n",
    "    visualize(tm)\n",
    "    for i in range(tm.k):\n",
    "        get_wordcloud(tm, token_lists, i)"
   ]
  },
  {
   "cell_type": "code",
   "execution_count": null,
   "metadata": {},
   "outputs": [],
   "source": []
  }
 ],
 "metadata": {
  "interpreter": {
   "hash": "49cb93f377a7abe7414b7b0f21fb3017538004a126cf690fb524202736b7fb92"
  },
  "kernelspec": {
   "display_name": "Python 3.8.8 64-bit",
   "language": "python",
   "name": "python3"
  },
  "language_info": {
   "name": "python",
   "version": "3.8.8"
  },
  "orig_nbformat": 4
 },
 "nbformat": 4,
 "nbformat_minor": 2
}
